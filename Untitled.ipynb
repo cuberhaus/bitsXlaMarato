{
 "cells": [
  {
   "cell_type": "code",
   "execution_count": 3,
   "id": "3df35944",
   "metadata": {},
   "outputs": [
    {
     "ename": "SyntaxError",
     "evalue": "(unicode error) 'unicodeescape' codec can't decode bytes in position 2-3: truncated \\UXXXXXXXX escape (2719531611.py, line 38)",
     "output_type": "error",
     "traceback": [
      "\u001b[1;36m  File \u001b[1;32m\"C:\\Users\\pable\\AppData\\Local\\Temp\\ipykernel_1528\\2719531611.py\"\u001b[1;36m, line \u001b[1;32m38\u001b[0m\n\u001b[1;33m    ruta = \"C:\\Users\\pable\\Documents\\GitHub\\bitsXlaMarato\\videos\\\\videos/601_S1.avi\"\u001b[0m\n\u001b[1;37m                                                                                    ^\u001b[0m\n\u001b[1;31mSyntaxError\u001b[0m\u001b[1;31m:\u001b[0m (unicode error) 'unicodeescape' codec can't decode bytes in position 2-3: truncated \\UXXXXXXXX escape\n"
     ]
    }
   ],
   "source": [
    "# Program To Read video\n",
    "# and Extract Frames\n",
    " \n",
    "import cv2\n",
    "import matplotlib.pyplot as plt\n",
    " \n",
    "# Function to extract frames\n",
    "def FrameCapture(path):\n",
    " \n",
    "    # Path to video file\n",
    "    vidObj = cv2.VideoCapture(path)\n",
    " \n",
    "    # Used as counter variable\n",
    "    count = 0\n",
    " \n",
    "    # checks whether frames were extracted\n",
    "    success = 1\n",
    "    \n",
    "    if vidObj.isOpened():\n",
    "        while success:\n",
    "\n",
    "            # vidObj object calls read\n",
    "            # function extract frames\n",
    "            success, image = vidObj.read()\n",
    "            crop_img = image[84:380, 54:526]\n",
    "            final_image = cv2.cvtColor(crop_img, cv2.COLOR_BGR2GRAY)\n",
    "            \n",
    "            # Saves the frames with frame-count\n",
    "            cv2.imwrite(\"601_frames/601_S1_%d.jpg\" % count, final_image)\n",
    "\n",
    "            count += 1\n",
    " \n",
    " \n",
    "# Driver Code\n",
    "if __name__ == '__main__':\n",
    " \n",
    "    # Calling the function\n",
    "    ruta = \"C:\\Users\\pable\\Documents\\GitHub\\bitsXlaMarato\\videos\\\\videos/601_S1.avi\"\n",
    "    ruta = ruta.replace('\\', '\\\\')\n",
    "    FrameCapture(ruta)\n",
    "    "
   ]
  },
  {
   "cell_type": "code",
   "execution_count": null,
   "id": "8b162482",
   "metadata": {},
   "outputs": [],
   "source": [
    "fd"
   ]
  }
 ],
 "metadata": {
  "kernelspec": {
   "display_name": "Python 3 (ipykernel)",
   "language": "python",
   "name": "python3"
  },
  "language_info": {
   "codemirror_mode": {
    "name": "ipython",
    "version": 3
   },
   "file_extension": ".py",
   "mimetype": "text/x-python",
   "name": "python",
   "nbconvert_exporter": "python",
   "pygments_lexer": "ipython3",
   "version": "3.9.7"
  }
 },
 "nbformat": 4,
 "nbformat_minor": 5
}
