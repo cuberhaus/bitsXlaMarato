{
 "cells": [
  {
   "cell_type": "code",
   "execution_count": 20,
   "id": "becba6c0",
   "metadata": {},
   "outputs": [
    {
     "name": "stdout",
     "output_type": "stream",
     "text": [
      "/home/pol\n",
      "/home/pol/bitsXlaMarato/601_frames\n"
     ]
    },
    {
     "ename": "error",
     "evalue": "OpenCV(4.6.0) /io/opencv/modules/imgcodecs/src/loadsave.cpp:801: error: (-215:Assertion failed) !_img.empty() in function 'imwrite'\n",
     "output_type": "error",
     "traceback": [
      "\u001B[0;31m---------------------------------------------------------------------------\u001B[0m",
      "\u001B[0;31merror\u001B[0m                                     Traceback (most recent call last)",
      "Cell \u001B[0;32mIn[20], line 51\u001B[0m\n\u001B[1;32m     44\u001B[0m \u001B[38;5;66;03m# try:\u001B[39;00m\n\u001B[1;32m     45\u001B[0m \u001B[38;5;66;03m#     os.mkdir(path_folder)\u001B[39;00m\n\u001B[1;32m     46\u001B[0m \u001B[38;5;66;03m# except OSError as error:\u001B[39;00m\n\u001B[1;32m     47\u001B[0m \u001B[38;5;66;03m#     print(error)\u001B[39;00m\n\u001B[1;32m     48\u001B[0m \n\u001B[1;32m     49\u001B[0m \u001B[38;5;66;03m# Calling the function\u001B[39;00m\n\u001B[1;32m     50\u001B[0m \u001B[38;5;28mprint\u001B[39m(path_folder)\n\u001B[0;32m---> 51\u001B[0m \u001B[43mFrameCapture\u001B[49m\u001B[43m(\u001B[49m\u001B[43mpath_video1\u001B[49m\u001B[43m,\u001B[49m\u001B[43mpath_image1\u001B[49m\u001B[43m,\u001B[49m\u001B[43m \u001B[49m\u001B[43mpath_folder\u001B[49m\u001B[43m)\u001B[49m\n",
      "Cell \u001B[0;32mIn[20], line 25\u001B[0m, in \u001B[0;36mFrameCapture\u001B[0;34m(path, path_image, path_folder)\u001B[0m\n\u001B[1;32m     23\u001B[0m success, image \u001B[38;5;241m=\u001B[39m vidObj\u001B[38;5;241m.\u001B[39mread()\n\u001B[1;32m     24\u001B[0m \u001B[38;5;66;03m# Saves the frames with frame-count\u001B[39;00m\n\u001B[0;32m---> 25\u001B[0m \u001B[43mcv2\u001B[49m\u001B[38;5;241;43m.\u001B[39;49m\u001B[43mimwrite\u001B[49m\u001B[43m(\u001B[49m\u001B[43mpath_image\u001B[49m\u001B[43m \u001B[49m\u001B[38;5;241;43m+\u001B[39;49m\u001B[43m \u001B[49m\u001B[38;5;124;43m\"\u001B[39;49m\u001B[38;5;132;43;01m%d\u001B[39;49;00m\u001B[38;5;124;43m.jpg\u001B[39;49m\u001B[38;5;124;43m\"\u001B[39;49m\u001B[43m \u001B[49m\u001B[38;5;241;43m%\u001B[39;49m\u001B[43m \u001B[49m\u001B[43mcount\u001B[49m\u001B[43m,\u001B[49m\u001B[43m \u001B[49m\u001B[43mimage\u001B[49m\u001B[43m)\u001B[49m\n\u001B[1;32m     27\u001B[0m count \u001B[38;5;241m+\u001B[39m\u001B[38;5;241m=\u001B[39m \u001B[38;5;241m1\u001B[39m\n",
      "\u001B[0;31merror\u001B[0m: OpenCV(4.6.0) /io/opencv/modules/imgcodecs/src/loadsave.cpp:801: error: (-215:Assertion failed) !_img.empty() in function 'imwrite'\n"
     ]
    }
   ],
   "source": [
    "# Program To Read video\n",
    "# and Extract Frames\n",
    " \n",
    "import cv2\n",
    " \n",
    "# Function to extract frames\n",
    "def FrameCapture(path,path_image,path_folder):\n",
    " \n",
    "    # Path to video file\n",
    "    vidObj = cv2.VideoCapture(path)\n",
    " \n",
    "    # Used as counter variable\n",
    "    count = 0\n",
    " \n",
    "    # checks whether frames were extracted\n",
    "    success = 1\n",
    "    \n",
    "    if vidObj.isOpened():\n",
    "        while success:\n",
    "\n",
    "            # vidObj object calls read\n",
    "            # function extract frames\n",
    "            success, image = vidObj.read()\n",
    "            # Saves the frames with frame-count\n",
    "            cv2.imwrite(path_image + \"%d.jpg\" % count, image)\n",
    "\n",
    "            count += 1\n",
    "\n",
    "# Importing OS module\n",
    "import os\n",
    "# Python get home directory using os module\n",
    "print(os.path.expanduser('~'))\n",
    "home = os.path.expanduser('~')\n",
    "path_video1 = home + \"/bitsXlaMarato/videos/601_S1.avi\"\n",
    "path_video2 = home + \"/bitsXlaMarato/videos/601_S2.avi\"\n",
    "path_video3 = home + \"/bitsXlaMarato/videos/601_L1.avi\"\n",
    "path_video4 = home + \"/bitsXlaMarato/videos/601_L2.avi\"\n",
    "path_image1 = \"601_frames/601-S1_\"\n",
    "path_image2 = \"601_frames/601-S2_\"\n",
    "path_image3 = \"601_frames/601-L1_\"\n",
    "path_image4 = \"601_frames/601-L2_\"\n",
    "path_folder = home + \"/bitsXlaMarato/\" + \"601_frames\"\n",
    "\n",
    "# try:\n",
    "#     os.mkdir(path_folder)\n",
    "# except OSError as error:\n",
    "#     print(error)\n",
    "\n",
    "# Calling the function\n",
    "print(path_folder)\n",
    "FrameCapture(path_video1,path_image1, path_folder)"
   ]
  },
  {
   "cell_type": "code",
   "execution_count": 21,
   "id": "db8157c3",
   "metadata": {},
   "outputs": [
    {
     "ename": "error",
     "evalue": "OpenCV(4.6.0) /io/opencv/modules/imgcodecs/src/loadsave.cpp:801: error: (-215:Assertion failed) !_img.empty() in function 'imwrite'\n",
     "output_type": "error",
     "traceback": [
      "\u001B[0;31m---------------------------------------------------------------------------\u001B[0m",
      "\u001B[0;31merror\u001B[0m                                     Traceback (most recent call last)",
      "Cell \u001B[0;32mIn[21], line 1\u001B[0m\n\u001B[0;32m----> 1\u001B[0m \u001B[43mFrameCapture\u001B[49m\u001B[43m(\u001B[49m\u001B[43mpath_video2\u001B[49m\u001B[43m,\u001B[49m\u001B[43m \u001B[49m\u001B[43mpath_image2\u001B[49m\u001B[43m,\u001B[49m\u001B[43m \u001B[49m\u001B[43mpath_folder\u001B[49m\u001B[43m)\u001B[49m\n",
      "Cell \u001B[0;32mIn[20], line 25\u001B[0m, in \u001B[0;36mFrameCapture\u001B[0;34m(path, path_image, path_folder)\u001B[0m\n\u001B[1;32m     23\u001B[0m success, image \u001B[38;5;241m=\u001B[39m vidObj\u001B[38;5;241m.\u001B[39mread()\n\u001B[1;32m     24\u001B[0m \u001B[38;5;66;03m# Saves the frames with frame-count\u001B[39;00m\n\u001B[0;32m---> 25\u001B[0m \u001B[43mcv2\u001B[49m\u001B[38;5;241;43m.\u001B[39;49m\u001B[43mimwrite\u001B[49m\u001B[43m(\u001B[49m\u001B[43mpath_image\u001B[49m\u001B[43m \u001B[49m\u001B[38;5;241;43m+\u001B[39;49m\u001B[43m \u001B[49m\u001B[38;5;124;43m\"\u001B[39;49m\u001B[38;5;132;43;01m%d\u001B[39;49;00m\u001B[38;5;124;43m.jpg\u001B[39;49m\u001B[38;5;124;43m\"\u001B[39;49m\u001B[43m \u001B[49m\u001B[38;5;241;43m%\u001B[39;49m\u001B[43m \u001B[49m\u001B[43mcount\u001B[49m\u001B[43m,\u001B[49m\u001B[43m \u001B[49m\u001B[43mimage\u001B[49m\u001B[43m)\u001B[49m\n\u001B[1;32m     27\u001B[0m count \u001B[38;5;241m+\u001B[39m\u001B[38;5;241m=\u001B[39m \u001B[38;5;241m1\u001B[39m\n",
      "\u001B[0;31merror\u001B[0m: OpenCV(4.6.0) /io/opencv/modules/imgcodecs/src/loadsave.cpp:801: error: (-215:Assertion failed) !_img.empty() in function 'imwrite'\n"
     ]
    }
   ],
   "source": [
    "FrameCapture(path_video2, path_image2, path_folder)\n"
   ]
  },
  {
   "cell_type": "code",
   "execution_count": 22,
   "outputs": [
    {
     "ename": "error",
     "evalue": "OpenCV(4.6.0) /io/opencv/modules/imgcodecs/src/loadsave.cpp:801: error: (-215:Assertion failed) !_img.empty() in function 'imwrite'\n",
     "output_type": "error",
     "traceback": [
      "\u001B[0;31m---------------------------------------------------------------------------\u001B[0m",
      "\u001B[0;31merror\u001B[0m                                     Traceback (most recent call last)",
      "Cell \u001B[0;32mIn[22], line 1\u001B[0m\n\u001B[0;32m----> 1\u001B[0m \u001B[43mFrameCapture\u001B[49m\u001B[43m(\u001B[49m\u001B[43mpath_video3\u001B[49m\u001B[43m,\u001B[49m\u001B[43m \u001B[49m\u001B[43mpath_image3\u001B[49m\u001B[43m,\u001B[49m\u001B[43m \u001B[49m\u001B[43mpath_folder\u001B[49m\u001B[43m)\u001B[49m\n",
      "Cell \u001B[0;32mIn[20], line 25\u001B[0m, in \u001B[0;36mFrameCapture\u001B[0;34m(path, path_image, path_folder)\u001B[0m\n\u001B[1;32m     23\u001B[0m success, image \u001B[38;5;241m=\u001B[39m vidObj\u001B[38;5;241m.\u001B[39mread()\n\u001B[1;32m     24\u001B[0m \u001B[38;5;66;03m# Saves the frames with frame-count\u001B[39;00m\n\u001B[0;32m---> 25\u001B[0m \u001B[43mcv2\u001B[49m\u001B[38;5;241;43m.\u001B[39;49m\u001B[43mimwrite\u001B[49m\u001B[43m(\u001B[49m\u001B[43mpath_image\u001B[49m\u001B[43m \u001B[49m\u001B[38;5;241;43m+\u001B[39;49m\u001B[43m \u001B[49m\u001B[38;5;124;43m\"\u001B[39;49m\u001B[38;5;132;43;01m%d\u001B[39;49;00m\u001B[38;5;124;43m.jpg\u001B[39;49m\u001B[38;5;124;43m\"\u001B[39;49m\u001B[43m \u001B[49m\u001B[38;5;241;43m%\u001B[39;49m\u001B[43m \u001B[49m\u001B[43mcount\u001B[49m\u001B[43m,\u001B[49m\u001B[43m \u001B[49m\u001B[43mimage\u001B[49m\u001B[43m)\u001B[49m\n\u001B[1;32m     27\u001B[0m count \u001B[38;5;241m+\u001B[39m\u001B[38;5;241m=\u001B[39m \u001B[38;5;241m1\u001B[39m\n",
      "\u001B[0;31merror\u001B[0m: OpenCV(4.6.0) /io/opencv/modules/imgcodecs/src/loadsave.cpp:801: error: (-215:Assertion failed) !_img.empty() in function 'imwrite'\n"
     ]
    }
   ],
   "source": [
    "FrameCapture(path_video3, path_image3, path_folder)"
   ],
   "metadata": {
    "collapsed": false
   }
  },
  {
   "cell_type": "code",
   "execution_count": 23,
   "outputs": [
    {
     "ename": "error",
     "evalue": "OpenCV(4.6.0) /io/opencv/modules/imgcodecs/src/loadsave.cpp:801: error: (-215:Assertion failed) !_img.empty() in function 'imwrite'\n",
     "output_type": "error",
     "traceback": [
      "\u001B[0;31m---------------------------------------------------------------------------\u001B[0m",
      "\u001B[0;31merror\u001B[0m                                     Traceback (most recent call last)",
      "Cell \u001B[0;32mIn[23], line 1\u001B[0m\n\u001B[0;32m----> 1\u001B[0m \u001B[43mFrameCapture\u001B[49m\u001B[43m(\u001B[49m\u001B[43mpath_video4\u001B[49m\u001B[43m,\u001B[49m\u001B[43m \u001B[49m\u001B[43mpath_image4\u001B[49m\u001B[43m,\u001B[49m\u001B[43m \u001B[49m\u001B[43mpath_folder\u001B[49m\u001B[43m)\u001B[49m\n",
      "Cell \u001B[0;32mIn[20], line 25\u001B[0m, in \u001B[0;36mFrameCapture\u001B[0;34m(path, path_image, path_folder)\u001B[0m\n\u001B[1;32m     23\u001B[0m success, image \u001B[38;5;241m=\u001B[39m vidObj\u001B[38;5;241m.\u001B[39mread()\n\u001B[1;32m     24\u001B[0m \u001B[38;5;66;03m# Saves the frames with frame-count\u001B[39;00m\n\u001B[0;32m---> 25\u001B[0m \u001B[43mcv2\u001B[49m\u001B[38;5;241;43m.\u001B[39;49m\u001B[43mimwrite\u001B[49m\u001B[43m(\u001B[49m\u001B[43mpath_image\u001B[49m\u001B[43m \u001B[49m\u001B[38;5;241;43m+\u001B[39;49m\u001B[43m \u001B[49m\u001B[38;5;124;43m\"\u001B[39;49m\u001B[38;5;132;43;01m%d\u001B[39;49;00m\u001B[38;5;124;43m.jpg\u001B[39;49m\u001B[38;5;124;43m\"\u001B[39;49m\u001B[43m \u001B[49m\u001B[38;5;241;43m%\u001B[39;49m\u001B[43m \u001B[49m\u001B[43mcount\u001B[49m\u001B[43m,\u001B[49m\u001B[43m \u001B[49m\u001B[43mimage\u001B[49m\u001B[43m)\u001B[49m\n\u001B[1;32m     27\u001B[0m count \u001B[38;5;241m+\u001B[39m\u001B[38;5;241m=\u001B[39m \u001B[38;5;241m1\u001B[39m\n",
      "\u001B[0;31merror\u001B[0m: OpenCV(4.6.0) /io/opencv/modules/imgcodecs/src/loadsave.cpp:801: error: (-215:Assertion failed) !_img.empty() in function 'imwrite'\n"
     ]
    }
   ],
   "source": [
    "FrameCapture(path_video4, path_image4, path_folder)\n"
   ],
   "metadata": {
    "collapsed": false
   }
  },
  {
   "cell_type": "code",
   "execution_count": null,
   "outputs": [],
   "source": [],
   "metadata": {
    "collapsed": false
   }
  }
 ],
 "metadata": {
  "kernelspec": {
   "display_name": "Python 3 (ipykernel)",
   "language": "python",
   "name": "python3"
  },
  "language_info": {
   "codemirror_mode": {
    "name": "ipython",
    "version": 3
   },
   "file_extension": ".py",
   "mimetype": "text/x-python",
   "name": "python",
   "nbconvert_exporter": "python",
   "pygments_lexer": "ipython3",
   "version": "3.9.7"
  }
 },
 "nbformat": 4,
 "nbformat_minor": 5
}
