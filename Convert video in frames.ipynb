{
 "cells": [
  {
   "cell_type": "code",
   "execution_count": 19,
   "id": "3e75aec2",
   "metadata": {},
   "outputs": [
    {
     "name": "stdout",
     "output_type": "stream",
     "text": [
      "(296, 472)\n"
     ]
    }
   ],
   "source": [
    "# Program To Read video\n",
    "# and Extract Frames\n",
    " \n",
    "import cv2\n",
    "import matplotlib.pyplot as plt\n",
    " \n",
    "# Function to extract frames\n",
    "def FrameCapture(path):\n",
    " \n",
    "    # Path to video file\n",
    "    vidObj = cv2.VideoCapture(path)\n",
    " \n",
    "    # Used as counter variable\n",
    "    count = 0\n",
    " \n",
    "    # checks whether frames were extracted\n",
    "    success = 1\n",
    "    \n",
    "    if vidObj.isOpened():\n",
    "        while success:\n",
    "\n",
    "            # vidObj object calls read\n",
    "            # function extract frames\n",
    "            success, image = vidObj.read()\n",
    "            crop_img = image[84:380, 54:526]\n",
    "            final_image = cv2.cvtColor(crop_img, cv2.COLOR_BGR2GRAY)\n",
    "            \n",
    "            # Saves the frames with frame-count\n",
    "            cv2.imwrite(\"588_frames/588_S2_%d.jpg\" % count, final_image)\n",
    "\n",
    "            count += 1\n",
    " \n",
    " \n",
    "# Driver Code\n",
    "if __name__ == '__main__':\n",
    " \n",
    "    # Calling the function\n",
    "    FrameCapture(\"C:/Users/Tatiana/Desktop/GEI/22-23Q1/BitsxLaMarato/588/T=4w/AVI/588_short2.avi\")\n",
    "    "
   ]
  },
  {
   "cell_type": "code",
   "execution_count": null,
   "id": "573baab7",
   "metadata": {},
   "outputs": [],
   "source": []
  }
 ],
 "metadata": {
  "kernelspec": {
   "display_name": "Python 3 (ipykernel)",
   "language": "python",
   "name": "python3"
  },
  "language_info": {
   "codemirror_mode": {
    "name": "ipython",
    "version": 3
   },
   "file_extension": ".py",
   "mimetype": "text/x-python",
   "name": "python",
   "nbconvert_exporter": "python",
   "pygments_lexer": "ipython3",
   "version": "3.9.4"
  }
 },
 "nbformat": 4,
 "nbformat_minor": 5
}
