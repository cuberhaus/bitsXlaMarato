{
 "cells": [
  {
   "cell_type": "code",
   "execution_count": null,
   "id": "18b0b6fc",
   "metadata": {},
   "outputs": [],
   "source": [
    "# Program To Read video\n",
    "# and Extract Frames\n",
    " \n",
    "import cv2\n",
    "import matplotlib.pyplot as plt\n",
    "import os\n",
    "import shutil\n",
    "import meshlib.mrmeshpy as mr\n",
    "import open3d as o3d\n",
    " \n",
    "# Function to extract frames\n",
    "def get3Dfigure(path):\n",
    "    \n",
    "    settings = mr.LoadingTiffSettings()\n",
    "    # load images from specified directory\n",
    "    settings.dir=path\n",
    "    # specifiy size of 3D image element\n",
    "    settings.voxelSize=mr.Vector3f(1,1,5)\n",
    "    #create voxel object from the series of images\n",
    "    volume=mr.loadTiffDir(settings)\n",
    "    #define ISO value to build surface\n",
    "    iso=127.0\n",
    "    #convert voxel object to mesh\n",
    "    mesh=mr.gridToMesh(volume.value(), iso)\n",
    "    #save mesh to .stl file\n",
    "    mr.saveMesh(mesh.value(), mr.Path(path+\"mesh3D.stl\"))\n",
    "\n",
    "def visualize(mesh):\n",
    "    vis = o3d.visualization.Visualizer()\n",
    "    vis.create_window()\n",
    "    vis.add_geometry(mesh)\n",
    "    vis.run()\n",
    "    vis.destroy_window()\n",
    "\n",
    "    \n",
    " \n",
    "# Driver Code\n",
    "if __name__ == '__main__':\n",
    " \n",
    "    # dir donde estan las tiff\n",
    "    #get3Dfigure(\"C:/Users/Tatiana/Desktop/GEI/22-23Q1/BitsxLaMarato/bitsXlaMarato/videos/mascara/\")\n",
    "    path = \"C:/Users/Tatiana/Desktop/GEI/22-23Q1/BitsxLaMarato/bitsXlaMarato/videos/frames_588_short1/\"\n",
    "    os.remove(path + \"mesh3D.stl\")\n",
    "    get3Dfigure(path)\n",
    "    mesh = o3d.io.read_triangle_mesh(path + \"mesh3D.stl\")\n",
    "    visualize(mesh)\n",
    "    "
   ]
  }
 ],
 "metadata": {
  "kernelspec": {
   "display_name": "Python 3 (ipykernel)",
   "language": "python",
   "name": "python3"
  },
  "language_info": {
   "codemirror_mode": {
    "name": "ipython",
    "version": 3
   },
   "file_extension": ".py",
   "mimetype": "text/x-python",
   "name": "python",
   "nbconvert_exporter": "python",
   "pygments_lexer": "ipython3",
   "version": "3.9.4"
  }
 },
 "nbformat": 4,
 "nbformat_minor": 5
}
