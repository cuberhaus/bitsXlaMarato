{
 "cells": [
  {
   "cell_type": "code",
   "execution_count": 3,
   "id": "18b0b6fc",
   "metadata": {},
   "outputs": [],
   "source": [
    "# Program To Read video\n",
    "# and Extract Frames\n",
    " \n",
    "import cv2\n",
    "import matplotlib.pyplot as plt\n",
    "import os\n",
    "import shutil\n",
    "import meshlib.mrmeshpy as mr\n",
    "import open3d as o3d\n",
    " \n",
    "# Function to extract frames\n",
    "def get3Dfigure(path):\n",
    "    \n",
    "    settings = mr.LoadingTiffSettings()\n",
    "    # load images from specified directory\n",
    "    settings.dir=path\n",
    "    # specifiy size of 3D image element\n",
    "    settings.voxelSize=mr.Vector3f(1,1,1)\n",
    "    #create voxel object from the series of images\n",
    "    volume=mr.loadTiffDir(settings)\n",
    "    #define ISO value to build surface\n",
    "    iso=127.0\n",
    "    #convert voxel object to mesh\n",
    "    mesh=mr.gridToMesh(volume.value(), iso)\n",
    "    #save mesh to .stl file\n",
    "    mr.saveMesh(mesh.value(), mr.Path(path+\"mesh3D.stl\"))\n",
    "\n",
    "def visualize(mesh):\n",
    "    vis = o3d.visualization.Visualizer()\n",
    "    vis.create_window()\n",
    "    vis.add_geometry(mesh)\n",
    "    vis.run()\n",
    "    vis.destroy_window()\n",
    "\n",
    "    \n",
    " \n",
    "# Driver Code\n",
    "if __name__ == '__main__':\n",
    "    \n",
    " \n",
    "    # dir donde estan las tiff\n",
    "    ruta = 'C:/Users/pable/Documents/GitHub/bitsXlaMarato/videos/mascara/'\n",
    "    os.remove(ruta + 'mesh3D.stl')\n",
    "    get3Dfigure(ruta)\n",
    "    \n",
    "    mesh = o3d.io.read_triangle_mesh(ruta + 'mesh3D.stl')\n",
    "    mesh.paint_uniform_color([252/255, 3/255, 115/255])\n",
    "    mesh.compute_vertex_normals()\n",
    "    visualize(mesh)\n",
    "    \n",
    "    "
   ]
  },
  {
   "cell_type": "code",
   "execution_count": 3,
   "id": "beb6eb51",
   "metadata": {},
   "outputs": [
    {
     "name": "stdout",
     "output_type": "stream",
     "text": [
      "Requirement already satisfied: open3d in c:\\python\\python39\\lib\\site-packages (0.16.0)\n",
      "Requirement already satisfied: ipywidgets>=7.6.0 in c:\\python\\python39\\lib\\site-packages (from open3d) (8.0.3)\n",
      "Requirement already satisfied: nbformat==5.5.0 in c:\\python\\python39\\lib\\site-packages (from open3d) (5.5.0)\n",
      "Requirement already satisfied: dash>=2.6.0 in c:\\python\\python39\\lib\\site-packages (from open3d) (2.7.1)\n",
      "Requirement already satisfied: numpy>=1.18.0 in c:\\python\\python39\\lib\\site-packages (from open3d) (1.21.4)\n",
      "Requirement already satisfied: configargparse in c:\\python\\python39\\lib\\site-packages (from open3d) (1.5.3)\n",
      "Requirement already satisfied: jsonschema>=2.6 in c:\\python\\python39\\lib\\site-packages (from nbformat==5.5.0->open3d) (4.17.3)\n",
      "Requirement already satisfied: jupyter_core in c:\\python\\python39\\lib\\site-packages (from nbformat==5.5.0->open3d) (5.1.0)\n",
      "Requirement already satisfied: fastjsonschema in c:\\python\\python39\\lib\\site-packages (from nbformat==5.5.0->open3d) (2.16.2)\n",
      "Requirement already satisfied: traitlets>=5.1 in c:\\python\\python39\\lib\\site-packages (from nbformat==5.5.0->open3d) (5.7.1)\n",
      "Requirement already satisfied: Flask>=1.0.4 in c:\\python\\python39\\lib\\site-packages (from dash>=2.6.0->open3d) (2.2.2)\n",
      "Requirement already satisfied: dash-html-components==2.0.0 in c:\\python\\python39\\lib\\site-packages (from dash>=2.6.0->open3d) (2.0.0)\n",
      "Requirement already satisfied: plotly>=5.0.0 in c:\\python\\python39\\lib\\site-packages (from dash>=2.6.0->open3d) (5.11.0)\n",
      "Requirement already satisfied: dash-table==5.0.0 in c:\\python\\python39\\lib\\site-packages (from dash>=2.6.0->open3d) (5.0.0)\n",
      "Requirement already satisfied: dash-core-components==2.0.0 in c:\\python\\python39\\lib\\site-packages (from dash>=2.6.0->open3d) (2.0.0)\n",
      "Requirement already satisfied: ipykernel>=4.5.1 in c:\\python\\python39\\lib\\site-packages (from ipywidgets>=7.6.0->open3d) (6.19.2)\n",
      "Requirement already satisfied: ipython>=6.1.0 in c:\\python\\python39\\lib\\site-packages (from ipywidgets>=7.6.0->open3d) (7.28.0)\n",
      "Requirement already satisfied: widgetsnbextension~=4.0 in c:\\python\\python39\\lib\\site-packages (from ipywidgets>=7.6.0->open3d) (4.0.4)\n",
      "Requirement already satisfied: jupyterlab-widgets~=3.0 in c:\\python\\python39\\lib\\site-packages (from ipywidgets>=7.6.0->open3d) (3.0.4)\n",
      "Requirement already satisfied: click>=8.0 in c:\\python\\python39\\lib\\site-packages (from Flask>=1.0.4->dash>=2.6.0->open3d) (8.1.3)\n",
      "Requirement already satisfied: Werkzeug>=2.2.2 in c:\\python\\python39\\lib\\site-packages (from Flask>=1.0.4->dash>=2.6.0->open3d) (2.2.2)\n",
      "Requirement already satisfied: importlib-metadata>=3.6.0 in c:\\python\\python39\\lib\\site-packages (from Flask>=1.0.4->dash>=2.6.0->open3d) (5.1.0)\n",
      "Requirement already satisfied: Jinja2>=3.0 in c:\\python\\python39\\lib\\site-packages (from Flask>=1.0.4->dash>=2.6.0->open3d) (3.1.2)\n",
      "Requirement already satisfied: itsdangerous>=2.0 in c:\\python\\python39\\lib\\site-packages (from Flask>=1.0.4->dash>=2.6.0->open3d) (2.1.2)\n",
      "Requirement already satisfied: packaging in c:\\python\\python39\\lib\\site-packages (from ipykernel>=4.5.1->ipywidgets>=7.6.0->open3d) (22.0)\n",
      "Requirement already satisfied: pyzmq>=17 in c:\\python\\python39\\lib\\site-packages (from ipykernel>=4.5.1->ipywidgets>=7.6.0->open3d) (24.0.1)\n",
      "Requirement already satisfied: nest-asyncio in c:\\python\\python39\\lib\\site-packages (from ipykernel>=4.5.1->ipywidgets>=7.6.0->open3d) (1.5.6)\n",
      "Requirement already satisfied: comm>=0.1.1 in c:\\python\\python39\\lib\\site-packages (from ipykernel>=4.5.1->ipywidgets>=7.6.0->open3d) (0.1.2)\n",
      "Requirement already satisfied: debugpy>=1.0 in c:\\python\\python39\\lib\\site-packages (from ipykernel>=4.5.1->ipywidgets>=7.6.0->open3d) (1.6.4)\n",
      "Requirement already satisfied: matplotlib-inline>=0.1 in c:\\python\\python39\\lib\\site-packages (from ipykernel>=4.5.1->ipywidgets>=7.6.0->open3d) (0.1.3)\n",
      "Requirement already satisfied: psutil in c:\\python\\python39\\lib\\site-packages (from ipykernel>=4.5.1->ipywidgets>=7.6.0->open3d) (5.9.4)\n",
      "Requirement already satisfied: tornado>=6.1 in c:\\python\\python39\\lib\\site-packages (from ipykernel>=4.5.1->ipywidgets>=7.6.0->open3d) (6.2)\n",
      "Requirement already satisfied: jupyter-client>=6.1.12 in c:\\python\\python39\\lib\\site-packages (from ipykernel>=4.5.1->ipywidgets>=7.6.0->open3d) (7.4.8)\n",
      "Requirement already satisfied: jedi>=0.16 in c:\\python\\python39\\lib\\site-packages (from ipython>=6.1.0->ipywidgets>=7.6.0->open3d) (0.18.0)\n",
      "Requirement already satisfied: pygments in c:\\python\\python39\\lib\\site-packages (from ipython>=6.1.0->ipywidgets>=7.6.0->open3d) (2.10.0)\n",
      "Requirement already satisfied: prompt-toolkit!=3.0.0,!=3.0.1,<3.1.0,>=2.0.0 in c:\\python\\python39\\lib\\site-packages (from ipython>=6.1.0->ipywidgets>=7.6.0->open3d) (3.0.21)\n",
      "Requirement already satisfied: decorator in c:\\python\\python39\\lib\\site-packages (from ipython>=6.1.0->ipywidgets>=7.6.0->open3d) (5.1.0)\n",
      "Requirement already satisfied: setuptools>=18.5 in c:\\python\\python39\\lib\\site-packages (from ipython>=6.1.0->ipywidgets>=7.6.0->open3d) (57.4.0)\n",
      "Requirement already satisfied: colorama in c:\\python\\python39\\lib\\site-packages (from ipython>=6.1.0->ipywidgets>=7.6.0->open3d) (0.4.4)\n",
      "Requirement already satisfied: backcall in c:\\python\\python39\\lib\\site-packages (from ipython>=6.1.0->ipywidgets>=7.6.0->open3d) (0.2.0)\n",
      "Requirement already satisfied: pickleshare in c:\\python\\python39\\lib\\site-packages (from ipython>=6.1.0->ipywidgets>=7.6.0->open3d) (0.7.5)\n",
      "Requirement already satisfied: attrs>=17.4.0 in c:\\python\\python39\\lib\\site-packages (from jsonschema>=2.6->nbformat==5.5.0->open3d) (22.1.0)\n",
      "Requirement already satisfied: pyrsistent!=0.17.0,!=0.17.1,!=0.17.2,>=0.14.0 in c:\\python\\python39\\lib\\site-packages (from jsonschema>=2.6->nbformat==5.5.0->open3d) (0.19.2)\n",
      "Requirement already satisfied: tenacity>=6.2.0 in c:\\python\\python39\\lib\\site-packages (from plotly>=5.0.0->dash>=2.6.0->open3d) (8.1.0)\n",
      "Requirement already satisfied: platformdirs>=2.5 in c:\\python\\python39\\lib\\site-packages (from jupyter_core->nbformat==5.5.0->open3d) (2.6.0)\n",
      "Requirement already satisfied: pywin32>=1.0 in c:\\python\\python39\\lib\\site-packages (from jupyter_core->nbformat==5.5.0->open3d) (305)\n",
      "Requirement already satisfied: zipp>=0.5 in c:\\python\\python39\\lib\\site-packages (from importlib-metadata>=3.6.0->Flask>=1.0.4->dash>=2.6.0->open3d) (3.11.0)\n",
      "Requirement already satisfied: parso<0.9.0,>=0.8.0 in c:\\python\\python39\\lib\\site-packages (from jedi>=0.16->ipython>=6.1.0->ipywidgets>=7.6.0->open3d) (0.8.2)\n",
      "Requirement already satisfied: MarkupSafe>=2.0 in c:\\python\\python39\\lib\\site-packages (from Jinja2>=3.0->Flask>=1.0.4->dash>=2.6.0->open3d) (2.1.1)\n",
      "Requirement already satisfied: entrypoints in c:\\python\\python39\\lib\\site-packages (from jupyter-client>=6.1.12->ipykernel>=4.5.1->ipywidgets>=7.6.0->open3d) (0.4)\n",
      "Requirement already satisfied: python-dateutil>=2.8.2 in c:\\python\\python39\\lib\\site-packages (from jupyter-client>=6.1.12->ipykernel>=4.5.1->ipywidgets>=7.6.0->open3d) (2.8.2)\n",
      "Requirement already satisfied: wcwidth in c:\\python\\python39\\lib\\site-packages (from prompt-toolkit!=3.0.0,!=3.0.1,<3.1.0,>=2.0.0->ipython>=6.1.0->ipywidgets>=7.6.0->open3d) (0.2.5)\n",
      "Requirement already satisfied: six>=1.5 in c:\\python\\python39\\lib\\site-packages (from python-dateutil>=2.8.2->jupyter-client>=6.1.12->ipykernel>=4.5.1->ipywidgets>=7.6.0->open3d) (1.16.0)\n"
     ]
    },
    {
     "name": "stderr",
     "output_type": "stream",
     "text": [
      "WARNING: You are using pip version 21.3.1; however, version 22.3.1 is available.\n",
      "You should consider upgrading via the 'C:\\Python\\Python39\\python.exe -m pip install --upgrade pip' command.\n"
     ]
    }
   ],
   "source": [
    "!pip install open3d"
   ]
  },
  {
   "cell_type": "code",
   "execution_count": null,
   "id": "b00d9ab7",
   "metadata": {},
   "outputs": [],
   "source": [
    "!pip install meshlib"
   ]
  },
  {
   "cell_type": "code",
   "execution_count": 11,
   "id": "e858ab9f",
   "metadata": {},
   "outputs": [],
   "source": [
    "from PIL import Image\n",
    "import numpy as np"
   ]
  },
  {
   "cell_type": "code",
   "execution_count": 7,
   "id": "608599a2",
   "metadata": {},
   "outputs": [],
   "source": [
    "img = Image.open('C:/Users/pable/Documents/GitHub/bitsXlaMarato/videos/mascara/27.tiff')"
   ]
  },
  {
   "cell_type": "code",
   "execution_count": 10,
   "id": "bd774d40",
   "metadata": {},
   "outputs": [
    {
     "data": {
      "image/png": "[encoded data removed]",
      "text/plain": [
       "<PIL.TiffImagePlugin.TiffImageFile image mode=RGB size=472x296 at 0x1E80BDF8040>"
      ]
     },
     "execution_count": 10,
     "metadata": {},
     "output_type": "execute_result"
    }
   ],
   "source": [
    "from glob import"
   ]
  },
  {
   "cell_type": "code",
   "execution_count": 12,
   "id": "314d35d2",
   "metadata": {},
   "outputs": [],
   "source": [
    "data = np.array(img)"
   ]
  },
  {
   "cell_type": "code",
   "execution_count": 13,
   "id": "970a087f",
   "metadata": {},
   "outputs": [
    {
     "data": {
      "text/plain": [
       "(296, 472, 3)"
      ]
     },
     "execution_count": 13,
     "metadata": {},
     "output_type": "execute_result"
    }
   ],
   "source": [
    "data.shape"
   ]
  },
  {
   "cell_type": "code",
   "execution_count": 20,
   "id": "b9306588",
   "metadata": {},
   "outputs": [],
   "source": [
    "from glob import glob\n",
    "fotos = glob('C:/Users/pable/Documents/GitHub/bitsXlaMarato/videos/mascara/*.tiff')"
   ]
  },
  {
   "cell_type": "code",
   "execution_count": 41,
   "id": "b5050d56",
   "metadata": {},
   "outputs": [],
   "source": [
    "for foto in fotos:\n",
    "    img = Image.open(foto)\n",
    "    data = np.array(img)\n",
    "    binarizada = data[:, :, 0]\n",
    "    nueva = Image.fromarray(binarizada)\n",
    "    cv2.imwrite(foto, binarizada)"
   ]
  },
  {
   "cell_type": "code",
   "execution_count": 42,
   "id": "83b3d7f5",
   "metadata": {},
   "outputs": [
    {
     "data": {
      "image/png": "[encoded data removed]",
      "text/plain": [
       "<PIL.Image.Image image mode=L size=472x296 at 0x1E8276C5160>"
      ]
     },
     "execution_count": 42,
     "metadata": {},
     "output_type": "execute_result"
    }
   ],
   "source": [
    "Image.fromarray(binarizada)"
   ]
  },
  {
   "cell_type": "code",
   "execution_count": 24,
   "id": "d40811f6",
   "metadata": {},
   "outputs": [
    {
     "data": {
      "text/plain": [
       "(296, 472)"
      ]
     },
     "execution_count": 24,
     "metadata": {},
     "output_type": "execute_result"
    }
   ],
   "source": [
    "binarizada.shape"
   ]
  },
  {
   "cell_type": "code",
   "execution_count": 32,
   "id": "7d7fcb4f",
   "metadata": {},
   "outputs": [],
   "source": [
    "img = Image.open('C:/Users/pable/Documents/GitHub/bitsXlaMarato/videos/mascara/1.tiff')"
   ]
  },
  {
   "cell_type": "code",
   "execution_count": 34,
   "id": "98d05849",
   "metadata": {},
   "outputs": [
    {
     "data": {
      "text/plain": [
       "(296, 472)"
      ]
     },
     "execution_count": 34,
     "metadata": {},
     "output_type": "execute_result"
    }
   ],
   "source": [
    "np.array(img).shape"
   ]
  },
  {
   "cell_type": "code",
   "execution_count": null,
   "id": "65d8d4a2",
   "metadata": {},
   "outputs": [],
   "source": []
  }
 ],
 "metadata": {
  "kernelspec": {
   "display_name": "Python 3 (ipykernel)",
   "language": "python",
   "name": "python3"
  },
  "language_info": {
   "codemirror_mode": {
    "name": "ipython",
    "version": 3
   },
   "file_extension": ".py",
   "mimetype": "text/x-python",
   "name": "python",
   "nbconvert_exporter": "python",
   "pygments_lexer": "ipython3",
   "version": "3.9.7"
  }
 },
 "nbformat": 4,
 "nbformat_minor": 5
}
