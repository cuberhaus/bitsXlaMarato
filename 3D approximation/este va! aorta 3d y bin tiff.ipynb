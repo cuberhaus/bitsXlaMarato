{
 "cells": [
  {
   "cell_type": "code",
   "execution_count": 1,
   "id": "e5658753",
   "metadata": {},
   "outputs": [],
   "source": [
    "ruta = 'C:/Users/pable/Documents/GitHub/bitsXlaMarato/videos/mascara/'"
   ]
  },
  {
   "cell_type": "code",
   "execution_count": 9,
   "id": "29fa4587",
   "metadata": {},
   "outputs": [],
   "source": [
    "from glob import glob\n",
    "from PIL import Image\n",
    "import numpy as np\n",
    "fotos = glob('C:/Users/pable/Documents/GitHub/bitsXlaMarato/videos/mascara/*.tiff')\n",
    "\n",
    "for foto in fotos:\n",
    "    img = Image.open(foto)\n",
    "    data = np.array(img)\n",
    "    binarizada = data[:, :, 0]\n",
    "    nueva = Image.fromarray(binarizada)\n",
    "    cv2.imwrite(foto, binarizada)"
   ]
  },
  {
   "cell_type": "code",
   "execution_count": 11,
   "id": "48fa5179",
   "metadata": {},
   "outputs": [
    {
     "name": "stdout",
     "output_type": "stream",
     "text": [
      "[Open3D WARNING] GLFW Error: WGL: Failed to make context current: Controlador no válido. \n",
      "[Open3D WARNING] [ViewControl] SetViewPoint() failed because window height and width are not set.\n"
     ]
    }
   ],
   "source": [
    "import cv2\n",
    "import matplotlib.pyplot as plt\n",
    "import os\n",
    "import shutil\n",
    "import meshlib.mrmeshpy as mr\n",
    "import open3d as o3d\n",
    " \n",
    "# Function to extract frames\n",
    "def get3Dfigure(path):\n",
    "    \n",
    "    settings = mr.LoadingTiffSettings()\n",
    "    # load images from specified directory\n",
    "    settings.dir=path\n",
    "    # specifiy size of 3D image element\n",
    "    settings.voxelSize=mr.Vector3f(1,1,1)\n",
    "    #create voxel object from the series of images\n",
    "    volume=mr.loadTiffDir(settings)\n",
    "    #define ISO value to build surface\n",
    "    iso=127.0\n",
    "    #convert voxel object to mesh\n",
    "    mesh=mr.gridToMesh(volume.value(), iso)\n",
    "    #save mesh to .stl file\n",
    "    mr.saveMesh(mesh.value(), mr.Path(path+\"mesh3D.stl\"))\n",
    "\n",
    "def visualize(mesh):\n",
    "    vis = o3d.visualization.Visualizer()\n",
    "    vis.create_window()\n",
    "    vis.add_geometry(mesh)\n",
    "    vis.run()\n",
    "    vis.destroy_window()\n",
    "\n",
    "    \n",
    " \n",
    "# Driver Code\n",
    "if __name__ == '__main__':\n",
    "    \n",
    " \n",
    "    # dir donde estan las tiff\n",
    "    ruta = 'C:/Users/pable/Documents/GitHub/bitsXlaMarato/videos/mascara/'\n",
    "    os.remove(ruta + 'mesh3D.stl')\n",
    "    get3Dfigure(ruta)\n",
    "    \n",
    "    mesh = o3d.io.read_triangle_mesh(ruta + 'mesh3D.stl')\n",
    "    mesh.paint_uniform_color([252/255, 3/255, 115/255])\n",
    "    mesh.compute_vertex_normals()\n",
    "    visualize(mesh)"
   ]
  },
  {
   "cell_type": "code",
   "execution_count": null,
   "id": "076333ad",
   "metadata": {},
   "outputs": [],
   "source": []
  }
 ],
 "metadata": {
  "kernelspec": {
   "display_name": "Python 3 (ipykernel)",
   "language": "python",
   "name": "python3"
  },
  "language_info": {
   "codemirror_mode": {
    "name": "ipython",
    "version": 3
   },
   "file_extension": ".py",
   "mimetype": "text/x-python",
   "name": "python",
   "nbconvert_exporter": "python",
   "pygments_lexer": "ipython3",
   "version": "3.9.7"
  }
 },
 "nbformat": 4,
 "nbformat_minor": 5
}
