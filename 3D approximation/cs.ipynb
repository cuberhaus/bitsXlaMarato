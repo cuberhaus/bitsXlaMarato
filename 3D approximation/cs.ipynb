{
 "cells": [
  {
   "cell_type": "code",
   "execution_count": 1,
   "id": "e5658753",
   "metadata": {},
   "outputs": [],
   "source": [
    "ruta = 'C:/Users/pable/Documents/GitHub/bitsXlaMarato/videos/mascara/'"
   ]
  },
  {
   "cell_type": "code",
   "execution_count": 2,
   "id": "87f6301e",
   "metadata": {},
   "outputs": [
    {
     "data": {
      "text/plain": [
       "['C:/Users/pable/Documents/GitHub/bitsXlaMarato/videos/mascara\\\\1.tiff',\n",
       " 'C:/Users/pable/Documents/GitHub/bitsXlaMarato/videos/mascara\\\\17.tiff',\n",
       " 'C:/Users/pable/Documents/GitHub/bitsXlaMarato/videos/mascara\\\\18.tiff',\n",
       " 'C:/Users/pable/Documents/GitHub/bitsXlaMarato/videos/mascara\\\\19.tiff',\n",
       " 'C:/Users/pable/Documents/GitHub/bitsXlaMarato/videos/mascara\\\\2.tiff',\n",
       " 'C:/Users/pable/Documents/GitHub/bitsXlaMarato/videos/mascara\\\\24.tiff',\n",
       " 'C:/Users/pable/Documents/GitHub/bitsXlaMarato/videos/mascara\\\\25.tiff',\n",
       " 'C:/Users/pable/Documents/GitHub/bitsXlaMarato/videos/mascara\\\\26.tiff',\n",
       " 'C:/Users/pable/Documents/GitHub/bitsXlaMarato/videos/mascara\\\\27.tiff',\n",
       " 'C:/Users/pable/Documents/GitHub/bitsXlaMarato/videos/mascara\\\\28.tiff',\n",
       " 'C:/Users/pable/Documents/GitHub/bitsXlaMarato/videos/mascara\\\\29.tiff',\n",
       " 'C:/Users/pable/Documents/GitHub/bitsXlaMarato/videos/mascara\\\\30.tiff',\n",
       " 'C:/Users/pable/Documents/GitHub/bitsXlaMarato/videos/mascara\\\\31.tiff',\n",
       " 'C:/Users/pable/Documents/GitHub/bitsXlaMarato/videos/mascara\\\\32.tiff',\n",
       " 'C:/Users/pable/Documents/GitHub/bitsXlaMarato/videos/mascara\\\\33.tiff',\n",
       " 'C:/Users/pable/Documents/GitHub/bitsXlaMarato/videos/mascara\\\\34.tiff',\n",
       " 'C:/Users/pable/Documents/GitHub/bitsXlaMarato/videos/mascara\\\\35.tiff',\n",
       " 'C:/Users/pable/Documents/GitHub/bitsXlaMarato/videos/mascara\\\\36.tiff',\n",
       " 'C:/Users/pable/Documents/GitHub/bitsXlaMarato/videos/mascara\\\\37.tiff',\n",
       " 'C:/Users/pable/Documents/GitHub/bitsXlaMarato/videos/mascara\\\\38.tiff',\n",
       " 'C:/Users/pable/Documents/GitHub/bitsXlaMarato/videos/mascara\\\\39.tiff',\n",
       " 'C:/Users/pable/Documents/GitHub/bitsXlaMarato/videos/mascara\\\\41.tiff',\n",
       " 'C:/Users/pable/Documents/GitHub/bitsXlaMarato/videos/mascara\\\\42.tiff',\n",
       " 'C:/Users/pable/Documents/GitHub/bitsXlaMarato/videos/mascara\\\\43.tiff',\n",
       " 'C:/Users/pable/Documents/GitHub/bitsXlaMarato/videos/mascara\\\\44.tiff',\n",
       " 'C:/Users/pable/Documents/GitHub/bitsXlaMarato/videos/mascara\\\\45.tiff',\n",
       " 'C:/Users/pable/Documents/GitHub/bitsXlaMarato/videos/mascara\\\\46.tiff',\n",
       " 'C:/Users/pable/Documents/GitHub/bitsXlaMarato/videos/mascara\\\\47.tiff',\n",
       " 'C:/Users/pable/Documents/GitHub/bitsXlaMarato/videos/mascara\\\\48.tiff',\n",
       " 'C:/Users/pable/Documents/GitHub/bitsXlaMarato/videos/mascara\\\\49.tiff',\n",
       " 'C:/Users/pable/Documents/GitHub/bitsXlaMarato/videos/mascara\\\\51.tiff',\n",
       " 'C:/Users/pable/Documents/GitHub/bitsXlaMarato/videos/mascara\\\\52.tiff',\n",
       " 'C:/Users/pable/Documents/GitHub/bitsXlaMarato/videos/mascara\\\\53.tiff',\n",
       " 'C:/Users/pable/Documents/GitHub/bitsXlaMarato/videos/mascara\\\\54.tiff',\n",
       " 'C:/Users/pable/Documents/GitHub/bitsXlaMarato/videos/mascara\\\\55.tiff',\n",
       " 'C:/Users/pable/Documents/GitHub/bitsXlaMarato/videos/mascara\\\\56.tiff',\n",
       " 'C:/Users/pable/Documents/GitHub/bitsXlaMarato/videos/mascara\\\\57.tiff',\n",
       " 'C:/Users/pable/Documents/GitHub/bitsXlaMarato/videos/mascara\\\\58.tiff',\n",
       " 'C:/Users/pable/Documents/GitHub/bitsXlaMarato/videos/mascara\\\\59.tiff',\n",
       " 'C:/Users/pable/Documents/GitHub/bitsXlaMarato/videos/mascara\\\\60.tiff',\n",
       " 'C:/Users/pable/Documents/GitHub/bitsXlaMarato/videos/mascara\\\\61.tiff',\n",
       " 'C:/Users/pable/Documents/GitHub/bitsXlaMarato/videos/mascara\\\\62.tiff',\n",
       " 'C:/Users/pable/Documents/GitHub/bitsXlaMarato/videos/mascara\\\\63.tiff',\n",
       " 'C:/Users/pable/Documents/GitHub/bitsXlaMarato/videos/mascara\\\\64.tiff',\n",
       " 'C:/Users/pable/Documents/GitHub/bitsXlaMarato/videos/mascara\\\\65.tiff',\n",
       " 'C:/Users/pable/Documents/GitHub/bitsXlaMarato/videos/mascara\\\\66.tiff',\n",
       " 'C:/Users/pable/Documents/GitHub/bitsXlaMarato/videos/mascara\\\\67.tiff',\n",
       " 'C:/Users/pable/Documents/GitHub/bitsXlaMarato/videos/mascara\\\\68.tiff',\n",
       " 'C:/Users/pable/Documents/GitHub/bitsXlaMarato/videos/mascara\\\\69.tiff',\n",
       " 'C:/Users/pable/Documents/GitHub/bitsXlaMarato/videos/mascara\\\\70.tiff',\n",
       " 'C:/Users/pable/Documents/GitHub/bitsXlaMarato/videos/mascara\\\\71.tiff',\n",
       " 'C:/Users/pable/Documents/GitHub/bitsXlaMarato/videos/mascara\\\\72.tiff',\n",
       " 'C:/Users/pable/Documents/GitHub/bitsXlaMarato/videos/mascara\\\\73.tiff',\n",
       " 'C:/Users/pable/Documents/GitHub/bitsXlaMarato/videos/mascara\\\\74.tiff',\n",
       " 'C:/Users/pable/Documents/GitHub/bitsXlaMarato/videos/mascara\\\\75.tiff',\n",
       " 'C:/Users/pable/Documents/GitHub/bitsXlaMarato/videos/mascara\\\\76.tiff',\n",
       " 'C:/Users/pable/Documents/GitHub/bitsXlaMarato/videos/mascara\\\\77.tiff',\n",
       " 'C:/Users/pable/Documents/GitHub/bitsXlaMarato/videos/mascara\\\\78.tiff',\n",
       " 'C:/Users/pable/Documents/GitHub/bitsXlaMarato/videos/mascara\\\\79.tiff',\n",
       " 'C:/Users/pable/Documents/GitHub/bitsXlaMarato/videos/mascara\\\\80.tiff',\n",
       " 'C:/Users/pable/Documents/GitHub/bitsXlaMarato/videos/mascara\\\\81.tiff',\n",
       " 'C:/Users/pable/Documents/GitHub/bitsXlaMarato/videos/mascara\\\\82.tiff',\n",
       " 'C:/Users/pable/Documents/GitHub/bitsXlaMarato/videos/mascara\\\\84.tiff',\n",
       " 'C:/Users/pable/Documents/GitHub/bitsXlaMarato/videos/mascara\\\\87.tiff',\n",
       " 'C:/Users/pable/Documents/GitHub/bitsXlaMarato/videos/mascara\\\\88.tiff',\n",
       " 'C:/Users/pable/Documents/GitHub/bitsXlaMarato/videos/mascara\\\\89.tiff',\n",
       " 'C:/Users/pable/Documents/GitHub/bitsXlaMarato/videos/mascara\\\\90.tiff']"
      ]
     },
     "execution_count": 2,
     "metadata": {},
     "output_type": "execute_result"
    }
   ],
   "source": [
    "from glob import glob\n",
    "fotos = glob(ruta + '/*.tiff')\n",
    "fotos"
   ]
  },
  {
   "cell_type": "code",
   "execution_count": 6,
   "id": "6e191509",
   "metadata": {},
   "outputs": [],
   "source": [
    "from PIL import Image\n",
    "import numpy as np\n",
    "stacking = np.array()\n",
    "for foto in fotos:\n",
    "    listas = np.array(im)\n",
    "    cara = listas[:, :, 0] == 255\n",
    "    cara.shape"
   ]
  },
  {
   "cell_type": "code",
   "execution_count": 15,
   "id": "aee9b5fd",
   "metadata": {},
   "outputs": [
    {
     "data": {
      "text/plain": [
       "(296, 472, 3)"
      ]
     },
     "execution_count": 15,
     "metadata": {},
     "output_type": "execute_result"
    }
   ],
   "source": []
  },
  {
   "cell_type": "code",
   "execution_count": 19,
   "id": "55fa376e",
   "metadata": {},
   "outputs": [
    {
     "data": {
      "text/plain": [
       "255"
      ]
     },
     "execution_count": 19,
     "metadata": {},
     "output_type": "execute_result"
    }
   ],
   "source": [
    "np.max(listas[:, :, 0])"
   ]
  },
  {
   "cell_type": "code",
   "execution_count": 22,
   "id": "0dc410ef",
   "metadata": {},
   "outputs": [
    {
     "data": {
      "text/plain": [
       "(296, 472)"
      ]
     },
     "execution_count": 22,
     "metadata": {},
     "output_type": "execute_result"
    }
   ],
   "source": []
  },
  {
   "cell_type": "code",
   "execution_count": 10,
   "id": "48fa5179",
   "metadata": {},
   "outputs": [],
   "source": [
    "#!/usr/bin/env python\n",
    "# coding: utf-8\n",
    "\n",
    "# In[3]:\n",
    "\n",
    "\n",
    "# Program To Read video\n",
    "# and Extract Frames\n",
    " \n",
    "import cv2\n",
    "import matplotlib.pyplot as plt\n",
    "import os\n",
    "import shutil\n",
    "import meshlib.mrmeshpy as mr\n",
    "import open3d as o3d\n",
    " \n",
    "# Function to extract frames\n",
    "def get3Dfigure(path):\n",
    "    \n",
    "    settings = mr.LoadingTiffSettings()\n",
    "    # load images from specified directory\n",
    "    settings.dir=path\n",
    "    # specifiy size of 3D image element\n",
    "    settings.voxelSize=mr.Vector3f(1,1,1)\n",
    "    #create voxel object from the series of images\n",
    "    volume=mr.loadTiffDir(settings)\n",
    "    #define ISO value to build surface\n",
    "    iso=127.0\n",
    "    #convert voxel object to mesh\n",
    "    mesh=mr.gridToMesh(volume.value(), iso)\n",
    "    #save mesh to .stl file\n",
    "    mr.saveMesh(mesh.value(), mr.Path(path+\"mesh3D.stl\"))\n",
    "\n",
    "def visualize(mesh):\n",
    "    vis = o3d.visualization.Visualizer()\n",
    "    vis.create_window()\n",
    "    vis.add_geometry(mesh)\n",
    "    vis.run()\n",
    "    vis.destroy_window()\n",
    "\n",
    "    \n",
    " \n",
    "# Driver Code\n",
    "if __name__ == '__main__':\n",
    "    \n",
    " \n",
    "    # dir donde estan las tiff\n",
    "    ruta = 'C:/Users/pable/Documents/GitHub/bitsXlaMarato/videos/mascara/'\n",
    "    os.remove(ruta + 'mesh3D.stl')\n",
    "    get3Dfigure(ruta)\n",
    "    \n",
    "    mesh = o3d.io.read_triangle_mesh(ruta + 'mesh3D.stl')\n",
    "    mesh.paint_uniform_color([252/255, 3/255, 115/255])\n",
    "    mesh.compute_vertex_normals()\n",
    "    visualize(mesh)"
   ]
  },
  {
   "cell_type": "code",
   "execution_count": 9,
   "id": "079796ee",
   "metadata": {},
   "outputs": [],
   "source": [
    "from glob import glob\n",
    "from PIL import Image\n",
    "import numpy as np\n",
    "fotos = glob('C:/Users/pable/Documents/GitHub/bitsXlaMarato/videos/mascara/*.tiff')\n",
    "\n",
    "\n",
    "# In[41]:\n",
    "\n",
    "for foto in fotos:\n",
    "    img = Image.open(foto)\n",
    "    data = np.array(img)\n",
    "    binarizada = data[:, :, 0]\n",
    "    nueva = Image.fromarray(binarizada)\n",
    "    cv2.imwrite(foto, binarizada)"
   ]
  },
  {
   "cell_type": "code",
   "execution_count": null,
   "id": "f617c2bb",
   "metadata": {},
   "outputs": [],
   "source": []
  }
 ],
 "metadata": {
  "kernelspec": {
   "display_name": "Python 3 (ipykernel)",
   "language": "python",
   "name": "python3"
  },
  "language_info": {
   "codemirror_mode": {
    "name": "ipython",
    "version": 3
   },
   "file_extension": ".py",
   "mimetype": "text/x-python",
   "name": "python",
   "nbconvert_exporter": "python",
   "pygments_lexer": "ipython3",
   "version": "3.9.7"
  }
 },
 "nbformat": 4,
 "nbformat_minor": 5
}
