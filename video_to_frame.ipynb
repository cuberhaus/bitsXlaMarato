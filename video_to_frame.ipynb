{
 "cells": [
  {
   "cell_type": "code",
   "execution_count": 13,
   "id": "83501f7a",
   "metadata": {},
   "outputs": [
    {
     "name": "stdout",
     "output_type": "stream",
     "text": [
      "/home/pol\n",
      "[Errno 17] File exists: '/home/pol/bitsXlaMarato/541_frames'\n"
     ]
    },
    {
     "ename": "TypeError",
     "evalue": "'NoneType' object is not subscriptable",
     "output_type": "error",
     "traceback": [
      "\u001B[0;31m---------------------------------------------------------------------------\u001B[0m",
      "\u001B[0;31mTypeError\u001B[0m                                 Traceback (most recent call last)",
      "Cell \u001B[0;32mIn[13], line 52\u001B[0m\n\u001B[1;32m     49\u001B[0m     \u001B[38;5;28mprint\u001B[39m(error)\n\u001B[1;32m     51\u001B[0m \u001B[38;5;66;03m# Calling the function\u001B[39;00m\n\u001B[0;32m---> 52\u001B[0m \u001B[43mFrameCapture\u001B[49m\u001B[43m(\u001B[49m\u001B[43mpath_video1\u001B[49m\u001B[43m,\u001B[49m\u001B[43mpath_image1\u001B[49m\u001B[43m,\u001B[49m\u001B[43m \u001B[49m\u001B[43mpath_folder\u001B[49m\u001B[43m)\u001B[49m\n",
      "Cell \u001B[0;32mIn[13], line 24\u001B[0m, in \u001B[0;36mFrameCapture\u001B[0;34m(path, path_image, path_folder)\u001B[0m\n\u001B[1;32m     19\u001B[0m \u001B[38;5;28;01mwhile\u001B[39;00m success:\n\u001B[1;32m     20\u001B[0m \n\u001B[1;32m     21\u001B[0m     \u001B[38;5;66;03m# vidObj object calls read\u001B[39;00m\n\u001B[1;32m     22\u001B[0m     \u001B[38;5;66;03m# function extract frames\u001B[39;00m\n\u001B[1;32m     23\u001B[0m     success, image \u001B[38;5;241m=\u001B[39m vidObj\u001B[38;5;241m.\u001B[39mread()\n\u001B[0;32m---> 24\u001B[0m     crop_img \u001B[38;5;241m=\u001B[39m \u001B[43mimage\u001B[49m\u001B[43m[\u001B[49m\u001B[38;5;241;43m84\u001B[39;49m\u001B[43m:\u001B[49m\u001B[38;5;241;43m380\u001B[39;49m\u001B[43m,\u001B[49m\u001B[43m \u001B[49m\u001B[38;5;241;43m54\u001B[39;49m\u001B[43m:\u001B[49m\u001B[38;5;241;43m526\u001B[39;49m\u001B[43m]\u001B[49m\n\u001B[1;32m     25\u001B[0m     final_image \u001B[38;5;241m=\u001B[39m cv2\u001B[38;5;241m.\u001B[39mcvtColor(crop_img, cv2\u001B[38;5;241m.\u001B[39mCOLOR_BGR2GRAY)\n\u001B[1;32m     26\u001B[0m     \u001B[38;5;66;03m# Saves the frames with frame-count\u001B[39;00m\n",
      "\u001B[0;31mTypeError\u001B[0m: 'NoneType' object is not subscriptable"
     ]
    }
   ],
   "source": [
    "# Program To Read video\n",
    "# and Extract Frames\n",
    " \n",
    "import cv2\n",
    " \n",
    "# Function to extract frames\n",
    "def FrameCapture(path,path_image,path_folder):\n",
    " \n",
    "    # Path to video file\n",
    "    vidObj = cv2.VideoCapture(path)\n",
    " \n",
    "    # Used as counter variable\n",
    "    count = 0\n",
    " \n",
    "    # checks whether frames were extracted\n",
    "    success = 1\n",
    "    \n",
    "    if vidObj.isOpened():\n",
    "        while success:\n",
    "\n",
    "            # vidObj object calls read\n",
    "            # function extract frames\n",
    "            success, image = vidObj.read()\n",
    "            crop_img = image[84:380, 54:526]\n",
    "            final_image = cv2.cvtColor(crop_img, cv2.COLOR_BGR2GRAY)\n",
    "            # Saves the frames with frame-count\n",
    "            cv2.imwrite(path_image + \"%d.jpg\" % count, final_image)\n",
    "\n",
    "            count += 1\n",
    "\n",
    "# Importing OS module\n",
    "import os\n",
    "# Python get home directory using os module\n",
    "print(os.path.expanduser('~'))\n",
    "home = os.path.expanduser('~')\n",
    "path_video1 = home + \"/bitsXlaMarato/videos/L1-541\"\n",
    "path_video2 = home + \"/bitsXlaMarato/videos/L2-541\"\n",
    "path_video3 = home + \"/bitsXlaMarato/videos/S1-541\"\n",
    "path_video4 = home + \"/bitsXlaMarato/videos/S2-541\"\n",
    "path_image1 = \"541_frames/541_L1_\"\n",
    "path_image2 = \"541_frames/541_L2_\"\n",
    "path_image3 = \"541_frames/541_S1_\"\n",
    "path_image4 = \"541_frames/541_S2_\"\n",
    "path_folder = home + \"/bitsXlaMarato/\" + \"541_frames\"\n",
    "\n",
    "try:\n",
    "    os.mkdir(path_folder)\n",
    "except OSError as error:\n",
    "    print(error)\n",
    "\n",
    "# Calling the function\n",
    "FrameCapture(path_video1,path_image1, path_folder)\n"
   ]
  },
  {
   "cell_type": "code",
   "execution_count": 14,
   "outputs": [
    {
     "ename": "TypeError",
     "evalue": "'NoneType' object is not subscriptable",
     "output_type": "error",
     "traceback": [
      "\u001B[0;31m---------------------------------------------------------------------------\u001B[0m",
      "\u001B[0;31mTypeError\u001B[0m                                 Traceback (most recent call last)",
      "Cell \u001B[0;32mIn[14], line 1\u001B[0m\n\u001B[0;32m----> 1\u001B[0m \u001B[43mFrameCapture\u001B[49m\u001B[43m(\u001B[49m\u001B[43mpath_video2\u001B[49m\u001B[43m,\u001B[49m\u001B[43mpath_image2\u001B[49m\u001B[43m,\u001B[49m\u001B[43m \u001B[49m\u001B[43mpath_folder\u001B[49m\u001B[43m)\u001B[49m\n",
      "Cell \u001B[0;32mIn[13], line 24\u001B[0m, in \u001B[0;36mFrameCapture\u001B[0;34m(path, path_image, path_folder)\u001B[0m\n\u001B[1;32m     19\u001B[0m \u001B[38;5;28;01mwhile\u001B[39;00m success:\n\u001B[1;32m     20\u001B[0m \n\u001B[1;32m     21\u001B[0m     \u001B[38;5;66;03m# vidObj object calls read\u001B[39;00m\n\u001B[1;32m     22\u001B[0m     \u001B[38;5;66;03m# function extract frames\u001B[39;00m\n\u001B[1;32m     23\u001B[0m     success, image \u001B[38;5;241m=\u001B[39m vidObj\u001B[38;5;241m.\u001B[39mread()\n\u001B[0;32m---> 24\u001B[0m     crop_img \u001B[38;5;241m=\u001B[39m \u001B[43mimage\u001B[49m\u001B[43m[\u001B[49m\u001B[38;5;241;43m84\u001B[39;49m\u001B[43m:\u001B[49m\u001B[38;5;241;43m380\u001B[39;49m\u001B[43m,\u001B[49m\u001B[43m \u001B[49m\u001B[38;5;241;43m54\u001B[39;49m\u001B[43m:\u001B[49m\u001B[38;5;241;43m526\u001B[39;49m\u001B[43m]\u001B[49m\n\u001B[1;32m     25\u001B[0m     final_image \u001B[38;5;241m=\u001B[39m cv2\u001B[38;5;241m.\u001B[39mcvtColor(crop_img, cv2\u001B[38;5;241m.\u001B[39mCOLOR_BGR2GRAY)\n\u001B[1;32m     26\u001B[0m     \u001B[38;5;66;03m# Saves the frames with frame-count\u001B[39;00m\n",
      "\u001B[0;31mTypeError\u001B[0m: 'NoneType' object is not subscriptable"
     ]
    }
   ],
   "source": [
    "FrameCapture(path_video2,path_image2, path_folder)\n"
   ],
   "metadata": {
    "collapsed": false
   }
  },
  {
   "cell_type": "code",
   "execution_count": 15,
   "outputs": [
    {
     "ename": "TypeError",
     "evalue": "'NoneType' object is not subscriptable",
     "output_type": "error",
     "traceback": [
      "\u001B[0;31m---------------------------------------------------------------------------\u001B[0m",
      "\u001B[0;31mTypeError\u001B[0m                                 Traceback (most recent call last)",
      "Cell \u001B[0;32mIn[15], line 1\u001B[0m\n\u001B[0;32m----> 1\u001B[0m \u001B[43mFrameCapture\u001B[49m\u001B[43m(\u001B[49m\u001B[43mpath_video3\u001B[49m\u001B[43m,\u001B[49m\u001B[43mpath_image3\u001B[49m\u001B[43m,\u001B[49m\u001B[43m \u001B[49m\u001B[43mpath_folder\u001B[49m\u001B[43m)\u001B[49m\n",
      "Cell \u001B[0;32mIn[13], line 24\u001B[0m, in \u001B[0;36mFrameCapture\u001B[0;34m(path, path_image, path_folder)\u001B[0m\n\u001B[1;32m     19\u001B[0m \u001B[38;5;28;01mwhile\u001B[39;00m success:\n\u001B[1;32m     20\u001B[0m \n\u001B[1;32m     21\u001B[0m     \u001B[38;5;66;03m# vidObj object calls read\u001B[39;00m\n\u001B[1;32m     22\u001B[0m     \u001B[38;5;66;03m# function extract frames\u001B[39;00m\n\u001B[1;32m     23\u001B[0m     success, image \u001B[38;5;241m=\u001B[39m vidObj\u001B[38;5;241m.\u001B[39mread()\n\u001B[0;32m---> 24\u001B[0m     crop_img \u001B[38;5;241m=\u001B[39m \u001B[43mimage\u001B[49m\u001B[43m[\u001B[49m\u001B[38;5;241;43m84\u001B[39;49m\u001B[43m:\u001B[49m\u001B[38;5;241;43m380\u001B[39;49m\u001B[43m,\u001B[49m\u001B[43m \u001B[49m\u001B[38;5;241;43m54\u001B[39;49m\u001B[43m:\u001B[49m\u001B[38;5;241;43m526\u001B[39;49m\u001B[43m]\u001B[49m\n\u001B[1;32m     25\u001B[0m     final_image \u001B[38;5;241m=\u001B[39m cv2\u001B[38;5;241m.\u001B[39mcvtColor(crop_img, cv2\u001B[38;5;241m.\u001B[39mCOLOR_BGR2GRAY)\n\u001B[1;32m     26\u001B[0m     \u001B[38;5;66;03m# Saves the frames with frame-count\u001B[39;00m\n",
      "\u001B[0;31mTypeError\u001B[0m: 'NoneType' object is not subscriptable"
     ]
    }
   ],
   "source": [
    "FrameCapture(path_video3,path_image3, path_folder)\n"
   ],
   "metadata": {
    "collapsed": false
   }
  },
  {
   "cell_type": "code",
   "execution_count": 16,
   "outputs": [
    {
     "ename": "TypeError",
     "evalue": "'NoneType' object is not subscriptable",
     "output_type": "error",
     "traceback": [
      "\u001B[0;31m---------------------------------------------------------------------------\u001B[0m",
      "\u001B[0;31mTypeError\u001B[0m                                 Traceback (most recent call last)",
      "Cell \u001B[0;32mIn[16], line 1\u001B[0m\n\u001B[0;32m----> 1\u001B[0m \u001B[43mFrameCapture\u001B[49m\u001B[43m(\u001B[49m\u001B[43mpath_video4\u001B[49m\u001B[43m,\u001B[49m\u001B[43mpath_image4\u001B[49m\u001B[43m,\u001B[49m\u001B[43m \u001B[49m\u001B[43mpath_folder\u001B[49m\u001B[43m)\u001B[49m\n",
      "Cell \u001B[0;32mIn[13], line 24\u001B[0m, in \u001B[0;36mFrameCapture\u001B[0;34m(path, path_image, path_folder)\u001B[0m\n\u001B[1;32m     19\u001B[0m \u001B[38;5;28;01mwhile\u001B[39;00m success:\n\u001B[1;32m     20\u001B[0m \n\u001B[1;32m     21\u001B[0m     \u001B[38;5;66;03m# vidObj object calls read\u001B[39;00m\n\u001B[1;32m     22\u001B[0m     \u001B[38;5;66;03m# function extract frames\u001B[39;00m\n\u001B[1;32m     23\u001B[0m     success, image \u001B[38;5;241m=\u001B[39m vidObj\u001B[38;5;241m.\u001B[39mread()\n\u001B[0;32m---> 24\u001B[0m     crop_img \u001B[38;5;241m=\u001B[39m \u001B[43mimage\u001B[49m\u001B[43m[\u001B[49m\u001B[38;5;241;43m84\u001B[39;49m\u001B[43m:\u001B[49m\u001B[38;5;241;43m380\u001B[39;49m\u001B[43m,\u001B[49m\u001B[43m \u001B[49m\u001B[38;5;241;43m54\u001B[39;49m\u001B[43m:\u001B[49m\u001B[38;5;241;43m526\u001B[39;49m\u001B[43m]\u001B[49m\n\u001B[1;32m     25\u001B[0m     final_image \u001B[38;5;241m=\u001B[39m cv2\u001B[38;5;241m.\u001B[39mcvtColor(crop_img, cv2\u001B[38;5;241m.\u001B[39mCOLOR_BGR2GRAY)\n\u001B[1;32m     26\u001B[0m     \u001B[38;5;66;03m# Saves the frames with frame-count\u001B[39;00m\n",
      "\u001B[0;31mTypeError\u001B[0m: 'NoneType' object is not subscriptable"
     ]
    }
   ],
   "source": [
    "FrameCapture(path_video4,path_image4, path_folder)\n"
   ],
   "metadata": {
    "collapsed": false
   }
  }
 ],
 "metadata": {
  "kernelspec": {
   "display_name": "Python 3 (ipykernel)",
   "language": "python",
   "name": "python3"
  },
  "language_info": {
   "codemirror_mode": {
    "name": "ipython",
    "version": 3
   },
   "file_extension": ".py",
   "mimetype": "text/x-python",
   "name": "python",
   "nbconvert_exporter": "python",
   "pygments_lexer": "ipython3",
   "version": "3.9.4"
  }
 },
 "nbformat": 4,
 "nbformat_minor": 5
}
