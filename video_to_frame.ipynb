{
 "cells": [
  {
   "cell_type": "code",
   "execution_count": 2,
   "id": "83501f7a",
   "metadata": {},
   "outputs": [
    {
     "name": "stdout",
     "output_type": "stream",
     "text": [
      "/home/pol\n"
     ]
    }
   ],
   "source": [
    "# Program To Read video\n",
    "# and Extract Frames\n",
    " \n",
    "import cv2\n",
    " \n",
    "# Function to extract frames\n",
    "def FrameCapture(path,path_image):\n",
    " \n",
    "    # Path to video file\n",
    "    vidObj = cv2.VideoCapture(path)\n",
    " \n",
    "    # Used as counter variable\n",
    "    count = 0\n",
    " \n",
    "    # checks whether frames were extracted\n",
    "    success = 1\n",
    "    \n",
    "    if vidObj.isOpened():\n",
    "        while success:\n",
    "\n",
    "            # vidObj object calls read\n",
    "            # function extract frames\n",
    "            success, image = vidObj.read()\n",
    "\n",
    "            # Saves the frames with frame-count\n",
    "            cv2.imwrite(path_image + \"%d.jpg\" % count, image)\n",
    "\n",
    "            count += 1\n",
    "\n",
    "# Importing OS module\n",
    "import os\n",
    "# Python get home directory using os module\n",
    "print(os.path.expanduser('~'))\n",
    "home = os.path.expanduser('~')\n",
    "path_video1 = home + \"/bitsXlaMarato/videos/L1-541\"\n",
    "path_video2 = home + \"/bitsXlaMarato/videos/L2-541\"\n",
    "path_video3 = home + \"/bitsXlaMarato/videos/S1-541\"\n",
    "path_video4 = home + \"/bitsXlaMarato/videos/S2-541\"\n",
    "path_image1 = \"541_frames/541_L1\"\n",
    "path_image2 = \"541_frames/541_L2\"\n",
    "path_image3 = \"541_frames/541_S1\"\n",
    "path_image4 = \"541_frames/541_S2\"\n",
    "# Calling the function\n",
    "FrameCapture(path_video1,path_image1)\n",
    "FrameCapture(path_video2,path_image2)\n",
    "FrameCapture(path_video3,path_image3)\n",
    "FrameCapture(path_video4,path_image4)\n"
   ]
  }
 ],
 "metadata": {
  "kernelspec": {
   "display_name": "Python 3 (ipykernel)",
   "language": "python",
   "name": "python3"
  },
  "language_info": {
   "codemirror_mode": {
    "name": "ipython",
    "version": 3
   },
   "file_extension": ".py",
   "mimetype": "text/x-python",
   "name": "python",
   "nbconvert_exporter": "python",
   "pygments_lexer": "ipython3",
   "version": "3.9.4"
  }
 },
 "nbformat": 4,
 "nbformat_minor": 5
}
