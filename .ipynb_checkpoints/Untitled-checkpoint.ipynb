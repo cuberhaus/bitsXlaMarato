{
 "cells": [
  {
   "cell_type": "code",
   "execution_count": 8,
   "id": "becba6c0",
   "metadata": {},
   "outputs": [
    {
     "name": "stdout",
     "output_type": "stream",
     "text": [
      "C:\\Users\\pable\n",
      "C:\\Users\\pable/Documents/Github/bitsXlaMarato/601_frames/\n"
     ]
    }
   ],
   "source": [
    "# Program To Read video\n",
    "# and Extract Frames\n",
    " \n",
    "import cv2\n",
    " \n",
    "# Function to extract frames\n",
    "def FrameCapture(path,path_image,path_folder):\n",
    " \n",
    "    # Path to video file\n",
    "    vidObj = cv2.VideoCapture(path)\n",
    " \n",
    "    # Used as counter variable\n",
    "    count = 0\n",
    " \n",
    "    # checks whether frames were extracted\n",
    "    success = 1\n",
    "    \n",
    "    if vidObj.isOpened():\n",
    "        while success:\n",
    "\n",
    "            # vidObj object calls read\n",
    "            # function extract frames\n",
    "            success, image = vidObj.read()\n",
    "            # Saves the frames with frame-count\n",
    "            cv2.imwrite(path_image + \"%d.jpg\" % count, image)\n",
    "\n",
    "            count += 1\n",
    "\n",
    "# Importing OS module\n",
    "import os\n",
    "# Python get home directory using os module\n",
    "print(os.path.expanduser('~'))\n",
    "home = os.path.expanduser('~')\n",
    "path_video1 = home + \"/bitsXlaMarato/videos/601-S1.avi\"\n",
    "path_video2 = home + \"/bitsXlaMarato/videos/601-S2.avi\"\n",
    "path_video3 = home + \"/bitsXlaMarato/videos/601-L1.avi\"\n",
    "path_video4 = home + \"/bitsXlaMarato/videos/601-L2.avi\"\n",
    "path_image1 = \"601_frames/601-S1_\"\n",
    "path_image2 = \"601_frames/601-S2_\"\n",
    "path_image3 = \"601_frames/601-L1_\"\n",
    "path_image4 = \"601_frames/601-L2_\"\n",
    "path_folder = home + \"/Documents/Github/bitsXlaMarato/\" + \"601_frames\"\n",
    "\n",
    "try:\n",
    "    os.mkdir(path_folder)\n",
    "except OSError as error:\n",
    "    print(error)\n",
    "\n",
    "# Calling the function\n",
    "print(path_folder)\n",
    "FrameCapture(path_video1,path_image1, path_folder)"
   ]
  },
  {
   "cell_type": "code",
   "execution_count": null,
   "id": "db8157c3",
   "metadata": {},
   "outputs": [],
   "source": []
  }
 ],
 "metadata": {
  "kernelspec": {
   "display_name": "Python 3 (ipykernel)",
   "language": "python",
   "name": "python3"
  },
  "language_info": {
   "codemirror_mode": {
    "name": "ipython",
    "version": 3
   },
   "file_extension": ".py",
   "mimetype": "text/x-python",
   "name": "python",
   "nbconvert_exporter": "python",
   "pygments_lexer": "ipython3",
   "version": "3.9.7"
  }
 },
 "nbformat": 4,
 "nbformat_minor": 5
}
