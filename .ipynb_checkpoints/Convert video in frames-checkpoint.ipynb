{
 "cells": [
  {
   "cell_type": "code",
   "execution_count": 14,
   "id": "3e75aec2",
   "metadata": {},
   "outputs": [],
   "source": [
    "# Program To Read video\n",
    "# and Extract Frames\n",
    " \n",
    "import cv2\n",
    "import matplotlib.pyplot as plt\n",
    "import os\n",
    "import shutil\n",
    " \n",
    "# Function to extract frames\n",
    "def FrameCapture(path, filename):\n",
    "    \n",
    "    #Creacion carpeta frames\n",
    "    if (os.path.exists(path+'frames')):\n",
    "        shutil.rmtree(path+'frames')\n",
    "    os.mkdir(path+'frames')\n",
    " \n",
    "    # Path to video file\n",
    "    vidObj = cv2.VideoCapture(path+filename)\n",
    "    \n",
    "    n_frames = str(vidObj.get(cv2.CAP_PROP_FRAME_COUNT))\n",
    "    n_zeros = len(n_frames)-2\n",
    " \n",
    "    # Used as counter variable\n",
    "    count = 0\n",
    " \n",
    "    # checks whether frames were extracted\n",
    "    success, image = vidObj.read()\n",
    "    \n",
    "    vid_name = filename.split('.')\n",
    "    vid_name = vid_name[0]\n",
    "    \n",
    "    while success:\n",
    "\n",
    "        # vidObj object calls read\n",
    "        # function extract frames\n",
    "        \n",
    "        crop_img = image[84:380, 54:526]\n",
    "        final_image = cv2.cvtColor(crop_img, cv2.COLOR_BGR2GRAY)\n",
    "\n",
    "        ini_zeros = int(n_zeros - len(str(count)))*'0'\n",
    "        num = ini_zeros + str(count)\n",
    "\n",
    "        # Saves the frames with frame-count\n",
    "        cv2.imwrite(path+\"frames/\" + vid_name + \"_\" + num +\".jpg\", final_image)\n",
    "\n",
    "        count += 1\n",
    "        \n",
    "        success, image = vidObj.read()\n",
    " \n",
    "# Driver Code\n",
    "if __name__ == '__main__':\n",
    " \n",
    "    # Calling the function: poner PATH que toca -> los frames estaran en una carpeta en este dir llamada Factors\n",
    "    FrameCapture(\"C:/Users/Tatiana/Desktop/GEI/22-23Q1/BitsxLaMarato/bitsXlaMarato/videos/\", \"601_S2.avi\")\n",
    "    "
   ]
  }
 ],
 "metadata": {
  "kernelspec": {
   "display_name": "Python 3 (ipykernel)",
   "language": "python",
   "name": "python3"
  },
  "language_info": {
   "codemirror_mode": {
    "name": "ipython",
    "version": 3
   },
   "file_extension": ".py",
   "mimetype": "text/x-python",
   "name": "python",
   "nbconvert_exporter": "python",
   "pygments_lexer": "ipython3",
   "version": "3.9.4"
  }
 },
 "nbformat": 4,
 "nbformat_minor": 5
}
