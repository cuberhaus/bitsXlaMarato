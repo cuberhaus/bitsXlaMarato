{
 "cells": [
  {
   "cell_type": "code",
   "execution_count": 1,
   "id": "91a862f0",
   "metadata": {},
   "outputs": [
    {
     "ename": "SyntaxError",
     "evalue": "(unicode error) 'unicodeescape' codec can't decode bytes in position 2-3: truncated \\UXXXXXXXX escape (455849789.py, line 34)",
     "output_type": "error",
     "traceback": [
      "\u001b[1;36m  Cell \u001b[1;32mIn[1], line 34\u001b[1;36m\u001b[0m\n\u001b[1;33m    FrameCapture(\"C:\\Users\\Tatiana\\Desktop\\GEI\\22-23Q1\\BitsxLaMarato\\588\\T=4w\\AVI\\588_long1.avi\")\u001b[0m\n\u001b[1;37m                                                                                                ^\u001b[0m\n\u001b[1;31mSyntaxError\u001b[0m\u001b[1;31m:\u001b[0m (unicode error) 'unicodeescape' codec can't decode bytes in position 2-3: truncated \\UXXXXXXXX escape\n"
     ]
    }
   ],
   "source": [
    "# Program To Read video\n",
    "# and Extract Frames\n",
    " \n",
    "import cv2\n",
    " \n",
    "# Function to extract frames\n",
    "def FrameCapture(path):\n",
    " \n",
    "    # Path to video file\n",
    "    vidObj = cv2.VideoCapture(path)\n",
    " \n",
    "    # Used as counter variable\n",
    "    count = 0\n",
    " \n",
    "    # checks whether frames were extracted\n",
    "    success = 1\n",
    " \n",
    "    while success:\n",
    " \n",
    "        # vidObj object calls read\n",
    "        # function extract frames\n",
    "        success, image = vidObj.read()\n",
    " \n",
    "        # Saves the frames with frame-count\n",
    "        cv2.imwrite(\"588_L1%d.jpg\" % count, image)\n",
    " \n",
    "        count += 1\n",
    " \n",
    " \n",
    "# Driver Code\n",
    "if __name__ == '__main__':\n",
    " \n",
    "    # Calling the function\n",
    "    FrameCapture(\"C:/Users/Tatiana/Desktop/GEI/22-23Q1/BitsxLaMarato/588/T=4w/AVI/588_long1.avi\")\n",
    "    "
   ]
  },
  {
   "cell_type": "code",
   "execution_count": null,
   "id": "6cc99cdf",
   "metadata": {},
   "outputs": [],
   "source": []
  }
 ],
 "metadata": {
  "kernelspec": {
   "display_name": "Python 3 (ipykernel)",
   "language": "python",
   "name": "python3"
  },
  "language_info": {
   "codemirror_mode": {
    "name": "ipython",
    "version": 3
   },
   "file_extension": ".py",
   "mimetype": "text/x-python",
   "name": "python",
   "nbconvert_exporter": "python",
   "pygments_lexer": "ipython3",
   "version": "3.9.4"
  }
 },
 "nbformat": 4,
 "nbformat_minor": 5
}
