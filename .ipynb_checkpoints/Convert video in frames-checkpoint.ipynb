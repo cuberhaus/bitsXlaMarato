{
 "cells": [
  {
   "cell_type": "code",
   "execution_count": 54,
   "id": "3e75aec2",
   "metadata": {},
   "outputs": [
    {
     "name": "stdout",
     "output_type": "stream",
     "text": [
      "2\n",
      "76.0\n",
      "00\n",
      "01\n",
      "02\n",
      "03\n",
      "04\n",
      "05\n",
      "06\n",
      "07\n",
      "08\n",
      "09\n",
      "10\n",
      "11\n",
      "12\n",
      "13\n",
      "14\n",
      "15\n",
      "16\n",
      "17\n",
      "18\n",
      "19\n",
      "20\n",
      "21\n",
      "22\n",
      "23\n",
      "24\n",
      "25\n",
      "26\n",
      "27\n",
      "28\n",
      "29\n",
      "30\n",
      "31\n",
      "32\n",
      "33\n",
      "34\n",
      "35\n",
      "36\n",
      "37\n",
      "38\n",
      "39\n",
      "40\n",
      "41\n",
      "42\n",
      "43\n",
      "44\n",
      "45\n",
      "46\n",
      "47\n",
      "48\n",
      "49\n",
      "50\n",
      "51\n",
      "52\n",
      "53\n",
      "54\n",
      "55\n",
      "56\n",
      "57\n",
      "58\n",
      "59\n",
      "60\n",
      "61\n",
      "62\n",
      "63\n",
      "64\n",
      "65\n",
      "66\n",
      "67\n",
      "68\n",
      "69\n",
      "70\n",
      "71\n",
      "72\n",
      "73\n",
      "74\n",
      "75\n"
     ]
    },
    {
     "ename": "TypeError",
     "evalue": "'NoneType' object is not subscriptable",
     "output_type": "error",
     "traceback": [
      "\u001b[1;31m---------------------------------------------------------------------------\u001b[0m",
      "\u001b[1;31mTypeError\u001b[0m                                 Traceback (most recent call last)",
      "Cell \u001b[1;32mIn[54], line 54\u001b[0m\n\u001b[0;32m     50\u001b[0m \u001b[38;5;66;03m# Driver Code\u001b[39;00m\n\u001b[0;32m     51\u001b[0m \u001b[38;5;28;01mif\u001b[39;00m \u001b[38;5;18m__name__\u001b[39m \u001b[38;5;241m==\u001b[39m \u001b[38;5;124m'\u001b[39m\u001b[38;5;124m__main__\u001b[39m\u001b[38;5;124m'\u001b[39m:\n\u001b[0;32m     52\u001b[0m  \n\u001b[0;32m     53\u001b[0m     \u001b[38;5;66;03m# Calling the function\u001b[39;00m\n\u001b[1;32m---> 54\u001b[0m     \u001b[43mFrameCapture\u001b[49m\u001b[43m(\u001b[49m\u001b[38;5;124;43m\"\u001b[39;49m\u001b[38;5;124;43mC:/Users/Tatiana/Desktop/GEI/22-23Q1/BitsxLaMarato/\u001b[39;49m\u001b[38;5;124;43m\"\u001b[39;49m\u001b[43m,\u001b[49m\u001b[43m \u001b[49m\u001b[38;5;124;43m\"\u001b[39;49m\u001b[38;5;124;43m588_long1.avi\u001b[39;49m\u001b[38;5;124;43m\"\u001b[39;49m\u001b[43m)\u001b[49m\n",
      "Cell \u001b[1;32mIn[54], line 36\u001b[0m, in \u001b[0;36mFrameCapture\u001b[1;34m(path, filename)\u001b[0m\n\u001b[0;32m     31\u001b[0m \u001b[38;5;28;01mwhile\u001b[39;00m success:\n\u001b[0;32m     32\u001b[0m \n\u001b[0;32m     33\u001b[0m     \u001b[38;5;66;03m# vidObj object calls read\u001b[39;00m\n\u001b[0;32m     34\u001b[0m     \u001b[38;5;66;03m# function extract frames\u001b[39;00m\n\u001b[0;32m     35\u001b[0m     success, image \u001b[38;5;241m=\u001b[39m vidObj\u001b[38;5;241m.\u001b[39mread()\n\u001b[1;32m---> 36\u001b[0m     crop_img \u001b[38;5;241m=\u001b[39m \u001b[43mimage\u001b[49m\u001b[43m[\u001b[49m\u001b[38;5;241;43m84\u001b[39;49m\u001b[43m:\u001b[49m\u001b[38;5;241;43m380\u001b[39;49m\u001b[43m,\u001b[49m\u001b[43m \u001b[49m\u001b[38;5;241;43m54\u001b[39;49m\u001b[43m:\u001b[49m\u001b[38;5;241;43m526\u001b[39;49m\u001b[43m]\u001b[49m\n\u001b[0;32m     37\u001b[0m     final_image \u001b[38;5;241m=\u001b[39m cv2\u001b[38;5;241m.\u001b[39mcvtColor(crop_img, cv2\u001b[38;5;241m.\u001b[39mCOLOR_BGR2GRAY)\n\u001b[0;32m     39\u001b[0m     ini_zeros \u001b[38;5;241m=\u001b[39m \u001b[38;5;28mint\u001b[39m(n_zeros \u001b[38;5;241m-\u001b[39m \u001b[38;5;28mlen\u001b[39m(\u001b[38;5;28mstr\u001b[39m(count)))\u001b[38;5;241m*\u001b[39m\u001b[38;5;124m'\u001b[39m\u001b[38;5;124m0\u001b[39m\u001b[38;5;124m'\u001b[39m\n",
      "\u001b[1;31mTypeError\u001b[0m: 'NoneType' object is not subscriptable"
     ]
    }
   ],
   "source": [
    "# Program To Read video\n",
    "# and Extract Frames\n",
    " \n",
    "import cv2\n",
    "import matplotlib.pyplot as plt\n",
    "import os\n",
    " \n",
    "# Function to extract frames\n",
    "def FrameCapture(path, filename):\n",
    "    \n",
    "    #Creacion carpeta frames\n",
    "    if (os.path.exists(path+'frames')):\n",
    "        os.rmdir(path+'frames')\n",
    "    os.mkdir(path+'frames')\n",
    " \n",
    "    # Path to video file\n",
    "    vidObj = cv2.VideoCapture(path+filename)\n",
    "    \n",
    "    n_frames = str(vidObj.get(cv2.CAP_PROP_FRAME_COUNT))\n",
    "    n_zeros = len(n_frames)-2\n",
    " \n",
    "    # Used as counter variable\n",
    "    count = 0\n",
    " \n",
    "    # checks whether frames were extracted\n",
    "    success = 1\n",
    "    \n",
    "    if vidObj.isOpened():\n",
    "        while success:\n",
    "\n",
    "            # vidObj object calls read\n",
    "            # function extract frames\n",
    "            success, image = vidObj.read()\n",
    "            crop_img = image[84:380, 54:526]\n",
    "            final_image = cv2.cvtColor(crop_img, cv2.COLOR_BGR2GRAY)\n",
    "            \n",
    "            ini_zeros = int(n_zeros - len(str(count)))*'0'\n",
    "            num = ini_zeros + str(count)\n",
    "            #num = int(num)\n",
    "            print(num)\n",
    "            \n",
    "            # Saves the frames with frame-count\n",
    "            cv2.imwrite(\"frames/\" + num +\".jpg\", final_image)\n",
    "\n",
    "            count += 1\n",
    " \n",
    " \n",
    "# Driver Code\n",
    "if __name__ == '__main__':\n",
    " \n",
    "    # Calling the function\n",
    "    FrameCapture(\"C:/Users/Tatiana/Desktop/GEI/22-23Q1/BitsxLaMarato/\", \"588_long1.avi\")\n",
    "    "
   ]
  },
  {
   "cell_type": "code",
   "execution_count": 35,
   "id": "573baab7",
   "metadata": {},
   "outputs": [
    {
     "name": "stdout",
     "output_type": "stream",
     "text": [
      "3\n",
      "101.0\n"
     ]
    },
    {
     "data": {
      "text/plain": [
       "2"
      ]
     },
     "execution_count": 35,
     "metadata": {},
     "output_type": "execute_result"
    }
   ],
   "source": [
    "path = \"C:/Users/Tatiana/Desktop/GEI/22-23Q1/BitsxLaMarato/bitsXlaMarato/videos/601_S1.avi\"\n",
    "vidObj = cv2.VideoCapture(path)\n",
    "n_frames = str(vidObj.get(cv2.CAP_PROP_FRAME_COUNT))\n",
    "n_zeros = len(n_frames)-2\n",
    "print(n_zeros)\n",
    "print(n_frames)\n",
    "\n",
    "count = 5\n",
    "n_zeros - len(str(count))"
   ]
  },
  {
   "cell_type": "code",
   "execution_count": 50,
   "id": "d78ab74b",
   "metadata": {},
   "outputs": [
    {
     "name": "stdout",
     "output_type": "stream",
     "text": [
      "C:/Users/Tatiana/Desktop/GEI/22-23Q1/BitsxLaMarato/588_long1.avi\n"
     ]
    }
   ],
   "source": [
    "path, filename = \"C:/Users/Tatiana/Desktop/GEI/22-23Q1/BitsxLaMarato/\", \"588_long1.avi\"\n",
    "print(path+filename)"
   ]
  }
 ],
 "metadata": {
  "kernelspec": {
   "display_name": "Python 3 (ipykernel)",
   "language": "python",
   "name": "python3"
  },
  "language_info": {
   "codemirror_mode": {
    "name": "ipython",
    "version": 3
   },
   "file_extension": ".py",
   "mimetype": "text/x-python",
   "name": "python",
   "nbconvert_exporter": "python",
   "pygments_lexer": "ipython3",
   "version": "3.9.4"
  }
 },
 "nbformat": 4,
 "nbformat_minor": 5
}
