{
 "cells": [
  {
   "cell_type": "code",
   "execution_count": 2,
   "id": "c837783d",
   "metadata": {},
   "outputs": [],
   "source": [
    "import cv2\n",
    "import glob"
   ]
  },
  {
   "cell_type": "code",
   "execution_count": 4,
   "id": "a537bd5d",
   "metadata": {},
   "outputs": [
    {
     "data": {
      "text/plain": [
       "['./videos\\\\601_L1.avi',\n",
       " './videos\\\\601_L2.avi',\n",
       " './videos\\\\601_S1.avi',\n",
       " './videos\\\\601_S2.avi']"
      ]
     },
     "execution_count": 4,
     "metadata": {},
     "output_type": "execute_result"
    }
   ],
   "source": [
    "ruta = './videos/*.avi'\n",
    "videos = glob.glob(ruta)\n",
    "videos"
   ]
  },
  {
   "cell_type": "code",
   "execution_count": null,
   "id": "358aaa33",
   "metadata": {},
   "outputs": [],
   "source": [
    "for video in videos:\n",
    "    names = video.split('\\\\')\n",
    "    name = names[-1]\n",
    "    lector = cv2.VideoCapture(video)\n",
    "    ret, frame = cap.read()\n",
    "    while(ret):\n",
    "        \n",
    "        \n",
    "        cv2.imwrite(filename, img)\n",
    "        ret, frame = cap.read()"
   ]
  }
 ],
 "metadata": {
  "kernelspec": {
   "display_name": "Python 3 (ipykernel)",
   "language": "python",
   "name": "python3"
  },
  "language_info": {
   "codemirror_mode": {
    "name": "ipython",
    "version": 3
   },
   "file_extension": ".py",
   "mimetype": "text/x-python",
   "name": "python",
   "nbconvert_exporter": "python",
   "pygments_lexer": "ipython3",
   "version": "3.9.7"
  }
 },
 "nbformat": 4,
 "nbformat_minor": 5
}
