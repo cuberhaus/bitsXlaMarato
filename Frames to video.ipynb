{
 "cells": [
  {
   "cell_type": "code",
   "execution_count": 13,
   "id": "ba547101",
   "metadata": {},
   "outputs": [
    {
     "name": "stdout",
     "output_type": "stream",
     "text": [
      "296 472\n"
     ]
    }
   ],
   "source": [
    "# Program To Read video\n",
    "# and Extract Frames\n",
    " \n",
    "import cv2\n",
    "import matplotlib.pyplot as plt\n",
    "import os\n",
    "import shutil\n",
    " \n",
    "# Function to extract frames\n",
    "def FrameCapture(path):\n",
    "    \n",
    "    frames = sorted(os.listdir(path))\n",
    "    img_array = []\n",
    "\n",
    "    #Leer imagenes\n",
    "    for x in range (0,len(frames)):\n",
    "        nomArchivo = frames[x]\n",
    "        dirArchivo = path + str(nomArchivo)\n",
    "        img = cv2.imread(dirArchivo)\n",
    "        img_array.append(img)\n",
    "\n",
    "    #Caracteríasticas video\n",
    "    name_vid = ('_').join(frames[0].split('_')[0:2])\n",
    "    \n",
    "    ex_frame = img_array[0]\n",
    "    height = ex_frame.shape[0]\n",
    "    width = ex_frame.shape[1]\n",
    "    \n",
    "    video = cv2.VideoWriter(name_vid+'.avi', -1, 20.0, (width,height))\n",
    "    \n",
    "\n",
    "    #Colocar los frames en video\n",
    "    for i in range(0, len(img_array)):\n",
    "        video.write(img_array[i])\n",
    "\n",
    "    #liberar\n",
    "    video.release()    \n",
    " \n",
    "# Driver Code\n",
    "if __name__ == '__main__':\n",
    " \n",
    "    # Calling the function: poner el path del dir donde estan las fotos\n",
    "    FrameCapture(\"C:/Users/Tatiana/Desktop/GEI/22-23Q1/BitsxLaMarato/frames/\")\n",
    "    "
   ]
  },
  {
   "cell_type": "code",
   "execution_count": null,
   "id": "d23ab9e2",
   "metadata": {},
   "outputs": [],
   "source": []
  }
 ],
 "metadata": {
  "kernelspec": {
   "display_name": "Python 3 (ipykernel)",
   "language": "python",
   "name": "python3"
  },
  "language_info": {
   "codemirror_mode": {
    "name": "ipython",
    "version": 3
   },
   "file_extension": ".py",
   "mimetype": "text/x-python",
   "name": "python",
   "nbconvert_exporter": "python",
   "pygments_lexer": "ipython3",
   "version": "3.9.4"
  }
 },
 "nbformat": 4,
 "nbformat_minor": 5
}
