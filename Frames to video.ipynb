{
 "cells": [
  {
   "cell_type": "code",
   "execution_count": 20,
   "id": "0a66f855",
   "metadata": {},
   "outputs": [
    {
     "ename": "AttributeError",
     "evalue": "'NoneType' object has no attribute 'shape'",
     "output_type": "error",
     "traceback": [
      "\u001b[1;31m---------------------------------------------------------------------------\u001b[0m",
      "\u001b[1;31mAttributeError\u001b[0m                            Traceback (most recent call last)",
      "Cell \u001b[1;32mIn[20], line 38\u001b[0m\n\u001b[0;32m     34\u001b[0m \u001b[38;5;66;03m# Driver Code\u001b[39;00m\n\u001b[0;32m     35\u001b[0m \u001b[38;5;28;01mif\u001b[39;00m \u001b[38;5;18m__name__\u001b[39m \u001b[38;5;241m==\u001b[39m \u001b[38;5;124m'\u001b[39m\u001b[38;5;124m__main__\u001b[39m\u001b[38;5;124m'\u001b[39m:\n\u001b[0;32m     36\u001b[0m  \n\u001b[0;32m     37\u001b[0m     \u001b[38;5;66;03m# Calling the function: poner el path del dir donde estan las fotos -> se genera el video en el dir frames\u001b[39;00m\n\u001b[1;32m---> 38\u001b[0m     \u001b[43mFrameCapture\u001b[49m\u001b[43m(\u001b[49m\u001b[38;5;124;43m\"\u001b[39;49m\u001b[38;5;124;43mC:/Users/Tatiana/Desktop/GEI/22-23Q1/BitsxLaMarato/frames/\u001b[39;49m\u001b[38;5;124;43m\"\u001b[39;49m\u001b[43m)\u001b[49m\n",
      "Cell \u001b[1;32mIn[20], line 25\u001b[0m, in \u001b[0;36mFrameCapture\u001b[1;34m(path)\u001b[0m\n\u001b[0;32m     22\u001b[0m \u001b[38;5;66;03m#Caracteríasticas video\u001b[39;00m\n\u001b[0;32m     23\u001b[0m name_vid \u001b[38;5;241m=\u001b[39m (\u001b[38;5;124m'\u001b[39m\u001b[38;5;124m_\u001b[39m\u001b[38;5;124m'\u001b[39m)\u001b[38;5;241m.\u001b[39mjoin(frames[\u001b[38;5;241m0\u001b[39m]\u001b[38;5;241m.\u001b[39msplit(\u001b[38;5;124m'\u001b[39m\u001b[38;5;124m_\u001b[39m\u001b[38;5;124m'\u001b[39m)[\u001b[38;5;241m0\u001b[39m:\u001b[38;5;241m2\u001b[39m])\n\u001b[1;32m---> 25\u001b[0m height, width, layers \u001b[38;5;241m=\u001b[39m \u001b[43mimg_array\u001b[49m\u001b[43m[\u001b[49m\u001b[38;5;241;43m0\u001b[39;49m\u001b[43m]\u001b[49m\u001b[38;5;241;43m.\u001b[39;49m\u001b[43mshape\u001b[49m\n\u001b[0;32m     26\u001b[0m size \u001b[38;5;241m=\u001b[39m (width,height)\n\u001b[0;32m     28\u001b[0m out \u001b[38;5;241m=\u001b[39m cv2\u001b[38;5;241m.\u001b[39mVideoWriter(path\u001b[38;5;241m+\u001b[39mname_vid\u001b[38;5;241m+\u001b[39m \u001b[38;5;124m'\u001b[39m\u001b[38;5;124m.avi\u001b[39m\u001b[38;5;124m'\u001b[39m, cv2\u001b[38;5;241m.\u001b[39mVideoWriter_fourcc(\u001b[38;5;241m*\u001b[39m\u001b[38;5;124m'\u001b[39m\u001b[38;5;124mDIVX\u001b[39m\u001b[38;5;124m'\u001b[39m), \u001b[38;5;241m15\u001b[39m, size)\n",
      "\u001b[1;31mAttributeError\u001b[0m: 'NoneType' object has no attribute 'shape'"
     ]
    }
   ],
   "source": [
    "# Program To Read video\n",
    "# and Extract Frames\n",
    " \n",
    "import cv2\n",
    "import matplotlib.pyplot as plt\n",
    "import os\n",
    "import shutil\n",
    " \n",
    "# Function to extract frames\n",
    "def FrameCapture(path):\n",
    "    \n",
    "    frames = sorted(os.listdir(path))\n",
    "    img_array = []\n",
    "\n",
    "    #Leer imagenes\n",
    "    for x in range (0,len(frames)):\n",
    "        nomArchivo = frames[x]\n",
    "        dirArchivo = path + str(nomArchivo)\n",
    "        img = cv2.imread(dirArchivo)\n",
    "        img_array.append(img)\n",
    "\n",
    "    #Caracteríasticas video\n",
    "    name_vid = ('_').join(frames[0].split('_')[0:2])\n",
    "    \n",
    "    height, width, layers = img_array[0].shape\n",
    "    size = (width,height)\n",
    "\n",
    "    out = cv2.VideoWriter(path+name_vid+ '.avi', cv2.VideoWriter_fourcc(*'DIVX'), 15, size)\n",
    " \n",
    "    for i in range(len(img_array)):\n",
    "        out.write(img_array[i])\n",
    "    out.release()\n",
    " \n",
    "# Driver Code\n",
    "if __name__ == '__main__':\n",
    " \n",
    "    # Calling the function: poner el path del dir donde estan las fotos -> se genera el video en el dir frames\n",
    "    FrameCapture(\"C:/Users/Tatiana/Desktop/GEI/22-23Q1/BitsxLaMarato/frames/\")\n",
    "    "
   ]
  }
 ],
 "metadata": {
  "kernelspec": {
   "display_name": "Python 3 (ipykernel)",
   "language": "python",
   "name": "python3"
  },
  "language_info": {
   "codemirror_mode": {
    "name": "ipython",
    "version": 3
   },
   "file_extension": ".py",
   "mimetype": "text/x-python",
   "name": "python",
   "nbconvert_exporter": "python",
   "pygments_lexer": "ipython3",
   "version": "3.9.4"
  }
 },
 "nbformat": 4,
 "nbformat_minor": 5
}
