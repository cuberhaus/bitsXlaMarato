{
 "cells": [
  {
   "cell_type": "code",
   "execution_count": 3,
   "id": "3e75aec2",
   "metadata": {},
   "outputs": [
    {
     "name": "stdout",
     "output_type": "stream",
     "text": [
      "101\n"
     ]
    }
   ],
   "source": [
    "# Program To Read video\n",
    "# and Extract Frames\n",
    " \n",
    "import cv2\n",
    "import matplotlib.pyplot as plt\n",
    "import os\n",
    "import shutil\n",
    " \n",
    "# Function to extract frames\n",
    "def FrameCapture(path, filename):\n",
    "    \n",
    "    vid_name = filename.split('.')\n",
    "    vid_name = vid_name[0]\n",
    "    \n",
    "    #Creacion carpeta frames\n",
    "    full_path = (path+'frames'+'_'+vid_name+'/')\n",
    "    if (os.path.exists(full_path)):\n",
    "        shutil.rmtree(full_path)\n",
    "    os.mkdir(full_path)\n",
    " \n",
    "    # Path to video file\n",
    "    vidObj = cv2.VideoCapture(path+filename)\n",
    "    \n",
    "    n_frames = str(int(vidObj.get(cv2.CAP_PROP_FRAME_COUNT)))\n",
    "    print(n_frames)\n",
    "    n_zeros = len(n_frames)\n",
    " \n",
    "    # Used as counter variable\n",
    "    count = 0\n",
    " \n",
    "    # checks whether frames were extracted\n",
    "    success, image = vidObj.read()\n",
    "    \n",
    "    \n",
    "    while success:\n",
    "\n",
    "        # vidObj object calls read\n",
    "        # function extract frames\n",
    "        \n",
    "        crop_img = image[84:380, 54:526]\n",
    "        final_image = cv2.cvtColor(crop_img, cv2.COLOR_BGR2GRAY)\n",
    "\n",
    "        ini_zeros = int(n_zeros - len(str(count)))*'0'\n",
    "        num = ini_zeros + str(count)\n",
    "\n",
    "        # Saves the frames with frame-count\n",
    "        #print(full_path + vid_name + \"_\" + num +\".jpg\", final_image)\n",
    "        cv2.imwrite(full_path + vid_name + \"_\" + num +\".jpg\", final_image)\n",
    "\n",
    "        count += 1\n",
    "        \n",
    "        success, image = vidObj.read()\n",
    " \n",
    "# Driver Code\n",
    "if __name__ == '__main__':\n",
    " \n",
    "    # Calling the function: poner PATH que toca -> los frames estaran en una carpeta en este dir llamada Factors\n",
    "    FrameCapture('C:/Users/pable/Documents/GitHub/bitsXlaMarato/videos/', '601_S1.avi')\n",
    "    "
   ]
  },
  {
   "cell_type": "code",
   "execution_count": null,
   "id": "2f58af81",
   "metadata": {},
   "outputs": [],
   "source": []
  }
 ],
 "metadata": {
  "kernelspec": {
   "display_name": "Python 3 (ipykernel)",
   "language": "python",
   "name": "python3"
  },
  "language_info": {
   "codemirror_mode": {
    "name": "ipython",
    "version": 3
   },
   "file_extension": ".py",
   "mimetype": "text/x-python",
   "name": "python",
   "nbconvert_exporter": "python",
   "pygments_lexer": "ipython3",
   "version": "3.9.7"
  }
 },
 "nbformat": 4,
 "nbformat_minor": 5
}
