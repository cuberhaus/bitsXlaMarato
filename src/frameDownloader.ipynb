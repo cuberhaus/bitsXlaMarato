{
 "cells": [
  {
   "cell_type": "code",
   "execution_count": 19,
   "id": "c837783d",
   "metadata": {},
   "outputs": [],
   "source": [
    "import cv2\n",
    "import os\n",
    "import glob"
   ]
  },
  {
   "cell_type": "code",
   "execution_count": 4,
   "id": "a537bd5d",
   "metadata": {},
   "outputs": [
    {
     "data": {
      "text/plain": [
       "['./videos\\\\601_L1.avi',\n",
       " './videos\\\\601_L2.avi',\n",
       " './videos\\\\601_S1.avi',\n",
       " './videos\\\\601_S2.avi']"
      ]
     },
     "execution_count": 4,
     "metadata": {},
     "output_type": "execute_result"
    }
   ],
   "source": [
    "ruta = './videos/*.avi'\n",
    "videos = glob.glob(ruta)\n",
    "videos"
   ]
  },
  {
   "cell_type": "code",
   "execution_count": 18,
   "id": "358aaa33",
   "metadata": {
    "scrolled": true
   },
   "outputs": [
    {
     "name": "stdout",
     "output_type": "stream",
     "text": [
      "frames/601_L1/601_L1_1.png\n",
      "frames/601_L1/601_L1_2.png\n",
      "frames/601_L1/601_L1_3.png\n",
      "frames/601_L1/601_L1_4.png\n",
      "frames/601_L1/601_L1_5.png\n",
      "frames/601_L1/601_L1_6.png\n",
      "frames/601_L1/601_L1_7.png\n",
      "frames/601_L1/601_L1_8.png\n",
      "frames/601_L1/601_L1_9.png\n",
      "frames/601_L1/601_L1_10.png\n",
      "frames/601_L1/601_L1_11.png\n",
      "frames/601_L1/601_L1_12.png\n",
      "frames/601_L1/601_L1_13.png\n",
      "frames/601_L1/601_L1_14.png\n",
      "frames/601_L1/601_L1_15.png\n",
      "frames/601_L1/601_L1_16.png\n",
      "frames/601_L1/601_L1_17.png\n",
      "frames/601_L1/601_L1_18.png\n",
      "frames/601_L1/601_L1_19.png\n",
      "frames/601_L1/601_L1_20.png\n",
      "frames/601_L1/601_L1_21.png\n",
      "frames/601_L1/601_L1_22.png\n",
      "frames/601_L1/601_L1_23.png\n",
      "frames/601_L1/601_L1_24.png\n",
      "frames/601_L1/601_L1_25.png\n",
      "frames/601_L1/601_L1_26.png\n",
      "frames/601_L1/601_L1_27.png\n",
      "frames/601_L1/601_L1_28.png\n",
      "frames/601_L1/601_L1_29.png\n",
      "frames/601_L1/601_L1_30.png\n",
      "frames/601_L1/601_L1_31.png\n",
      "frames/601_L1/601_L1_32.png\n",
      "frames/601_L1/601_L1_33.png\n",
      "frames/601_L1/601_L1_34.png\n",
      "frames/601_L1/601_L1_35.png\n",
      "frames/601_L1/601_L1_36.png\n",
      "frames/601_L1/601_L1_37.png\n",
      "frames/601_L1/601_L1_38.png\n",
      "frames/601_L1/601_L1_39.png\n",
      "frames/601_L1/601_L1_40.png\n",
      "frames/601_L1/601_L1_41.png\n",
      "frames/601_L1/601_L1_42.png\n",
      "frames/601_L1/601_L1_43.png\n",
      "frames/601_L1/601_L1_44.png\n",
      "frames/601_L1/601_L1_45.png\n",
      "frames/601_L1/601_L1_46.png\n",
      "frames/601_L1/601_L1_47.png\n",
      "frames/601_L1/601_L1_48.png\n",
      "frames/601_L1/601_L1_49.png\n",
      "frames/601_L1/601_L1_50.png\n",
      "frames/601_L1/601_L1_51.png\n",
      "frames/601_L1/601_L1_52.png\n",
      "frames/601_L1/601_L1_53.png\n",
      "frames/601_L1/601_L1_54.png\n",
      "frames/601_L1/601_L1_55.png\n",
      "frames/601_L1/601_L1_56.png\n",
      "frames/601_L1/601_L1_57.png\n",
      "frames/601_L1/601_L1_58.png\n",
      "frames/601_L1/601_L1_59.png\n",
      "frames/601_L1/601_L1_60.png\n",
      "frames/601_L1/601_L1_61.png\n",
      "frames/601_L1/601_L1_62.png\n",
      "frames/601_L1/601_L1_63.png\n",
      "frames/601_L1/601_L1_64.png\n",
      "frames/601_L1/601_L1_65.png\n",
      "frames/601_L1/601_L1_66.png\n",
      "frames/601_L1/601_L1_67.png\n",
      "frames/601_L1/601_L1_68.png\n",
      "frames/601_L1/601_L1_69.png\n",
      "frames/601_L1/601_L1_70.png\n",
      "frames/601_L1/601_L1_71.png\n",
      "frames/601_L1/601_L1_72.png\n",
      "frames/601_L1/601_L1_73.png\n",
      "frames/601_L1/601_L1_74.png\n",
      "frames/601_L1/601_L1_75.png\n",
      "frames/601_L1/601_L1_76.png\n",
      "frames/601_L1/601_L1_77.png\n",
      "frames/601_L1/601_L1_78.png\n",
      "frames/601_L1/601_L1_79.png\n",
      "frames/601_L1/601_L1_80.png\n",
      "frames/601_L1/601_L1_81.png\n",
      "frames/601_L1/601_L1_82.png\n",
      "frames/601_L1/601_L1_83.png\n",
      "frames/601_L1/601_L1_84.png\n",
      "frames/601_L1/601_L1_85.png\n",
      "frames/601_L1/601_L1_86.png\n",
      "frames/601_L1/601_L1_87.png\n",
      "frames/601_L1/601_L1_88.png\n",
      "frames/601_L1/601_L1_89.png\n",
      "frames/601_L1/601_L1_90.png\n",
      "frames/601_L1/601_L1_91.png\n",
      "frames/601_L1/601_L1_92.png\n",
      "frames/601_L1/601_L1_93.png\n",
      "frames/601_L1/601_L1_94.png\n",
      "frames/601_L1/601_L1_95.png\n",
      "frames/601_L1/601_L1_96.png\n",
      "frames/601_L1/601_L1_97.png\n",
      "frames/601_L1/601_L1_98.png\n",
      "frames/601_L1/601_L1_99.png\n",
      "frames/601_L1/601_L1_100.png\n",
      "frames/601_L1/601_L1_101.png\n"
     ]
    }
   ],
   "source": [
    "for video in videos:\n",
    "    index = 1\n",
    "    names = video.split('\\\\')\n",
    "    name = names[-1]\n",
    "    lector = cv2.VideoCapture(video)\n",
    "    ret, frame = lector.read()\n",
    "    os.mkdir('.fr\n",
    "    while(ret):\n",
    "        filename = 'frames/' +  name[:-4] + '/' + name[:-4] + '_' + str(index) + '.png'\n",
    "        print(filename)\n",
    "        cv2.imwrite(filename, frame)\n",
    "        index = index + 1\n",
    "        ret, frame = lector.read()\n",
    "    break"
   ]
  },
  {
   "cell_type": "code",
   "execution_count": null,
   "id": "7c625f73",
   "metadata": {},
   "outputs": [],
   "source": []
  }
 ],
 "metadata": {
  "kernelspec": {
   "display_name": "Python 3 (ipykernel)",
   "language": "python",
   "name": "python3"
  },
  "language_info": {
   "codemirror_mode": {
    "name": "ipython",
    "version": 3
   },
   "file_extension": ".py",
   "mimetype": "text/x-python",
   "name": "python",
   "nbconvert_exporter": "python",
   "pygments_lexer": "ipython3",
   "version": "3.9.7"
  }
 },
 "nbformat": 4,
 "nbformat_minor": 5
}
